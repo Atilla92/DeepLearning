{
 "cells": [
  {
   "cell_type": "markdown",
   "metadata": {},
   "source": [
    "# 1 Delaunay\n",
    "\n",
    "\n",
    "Assumptions:\n",
    "<ol>\n",
    "<li> Symmetric horizontal flight: heading can only change along z/axis (yaw), therefore objects are all placed along the x-y plane (z = 0), so the simulation is reduced to 2D.</li>\n",
    "<li> Trajectory path calculated according to midpoints of delaunay triangles (basis for Voronoi diagrams).</li>\n",
    "<li> The radius of the objects is taken into account. The gab between two obstacles and the midpoints are calculated accordingly </li>\n",
    "<li> In order to prevent obstacles to overlap a constraint is set on min distance between objects, and max radius. Equally, a constraint has to be set on  the beginning position, such that it does not start at the location of a particular interference. \n",
    "\n"
   ]
  },
  {
   "cell_type": "code",
   "execution_count": 1,
   "metadata": {
    "collapsed": false
   },
   "outputs": [],
   "source": [
    "import numpy as np\n",
    "import matplotlib.pylab as plt\n",
    "import time \n",
    "%matplotlib inline\n",
    "import pickle\n",
    "import scipy \n",
    "from scipy.spatial import Delaunay\n",
    "from numpy import linalg as LA\n",
    "import matplotlib.pyplot as plt\n",
    "from graphics import *\n",
    "#win = GraphWin()\n",
    "#win.close()"
   ]
  },
  {
   "cell_type": "code",
   "execution_count": 2,
   "metadata": {
    "collapsed": false
   },
   "outputs": [],
   "source": [
    "#Load obstaclesm position and heading\n",
    "\n",
    "with open('initialVariables.pickle', 'rb') as f:  # Python 3: open(..., 'rb')\n",
    "    position, __ , heading = pickle.load(f)\n",
    "with open('obsRotated.pickle', 'rb') as f:  # Python 3: open(..., 'rb')\n",
    "    obstacles, __ = pickle.load(f)"
   ]
  },
  {
   "cell_type": "code",
   "execution_count": 3,
   "metadata": {
    "collapsed": false
   },
   "outputs": [],
   "source": [
    "\n",
    "points = np.array(obstacles[:,0:2])\n",
    "p = position[0:2]\n",
    "r = obstacles [:,3]\n",
    "\n",
    "\n",
    "tri = Delaunay(points)\n",
    "median = points[tri.simplices]"
   ]
  },
  {
   "cell_type": "code",
   "execution_count": 4,
   "metadata": {
    "collapsed": false
   },
   "outputs": [],
   "source": [
    "head = np.array([np.cos(heading), np.sin(heading)])\n",
    "\n",
    "#x,y,u,v = np.hstack([position[0:2], head[0], head[1]])\n"
   ]
  },
  {
   "cell_type": "code",
   "execution_count": 5,
   "metadata": {
    "collapsed": false
   },
   "outputs": [],
   "source": [
    "# fig, ax = plt.subplots()\n",
    "# limits = 10\n",
    "# ax.set_xlim((-limits, limits))\n",
    "# ax.set_ylim((-limits, limits))\n",
    "# for c in obstacles:\n",
    "#     #print(c)\n",
    "#     point =(c[0],c[1])\n",
    "#     circle = plt.Circle(point, c[3], color='r')\n",
    "#     ax.add_artist(circle)\n",
    "# circle = plt.Circle((position[0],position[1]), 0.2, color='b')\n",
    "# ax.add_artist(circle)\n",
    "\n",
    "# #vec1 = np.multiply(np.ones_like(heading[0:2]),position[0:2])\n",
    "# # vec1 = np.hstack([position[0:2], head[0], head[1]])\n",
    "# # vec1 =np.array([1,1,1,1])\n",
    "# # X, Y, U, V = zip(*vec1)\n",
    "# X,Y,U,V = np.hstack([position[0:2], head[0], head[1]])\n",
    "# ax = plt.gca()\n",
    "# ax.quiver(X, Y, U, V, angles='xy', scale_units='xy', scale=0.5, color= 'b')"
   ]
  },
  {
   "cell_type": "code",
   "execution_count": null,
   "metadata": {
    "collapsed": false
   },
   "outputs": [],
   "source": []
  },
  {
   "cell_type": "code",
   "execution_count": null,
   "metadata": {
    "collapsed": false
   },
   "outputs": [],
   "source": []
  },
  {
   "cell_type": "code",
   "execution_count": null,
   "metadata": {
    "collapsed": false
   },
   "outputs": [],
   "source": []
  },
  {
   "cell_type": "code",
   "execution_count": 6,
   "metadata": {
    "collapsed": false
   },
   "outputs": [],
   "source": [
    "triangle_index = tri.find_simplex(p)\n"
   ]
  },
  {
   "cell_type": "code",
   "execution_count": 7,
   "metadata": {
    "collapsed": false
   },
   "outputs": [],
   "source": [
    "#tri.plane_distance(p)"
   ]
  },
  {
   "cell_type": "code",
   "execution_count": 8,
   "metadata": {
    "collapsed": false,
    "scrolled": true
   },
   "outputs": [
    {
     "data": {
      "text/plain": [
       "array([0, 1])"
      ]
     },
     "execution_count": 8,
     "metadata": {},
     "output_type": "execute_result"
    }
   ],
   "source": [
    "p"
   ]
  },
  {
   "cell_type": "code",
   "execution_count": 9,
   "metadata": {
    "collapsed": false
   },
   "outputs": [
    {
     "data": {
      "text/plain": [
       "array([[ -1.19618781,  10.22590508],\n",
       "       [ -0.45579228,  -2.7914608 ],\n",
       "       [  7.56256913,  -1.95129398],\n",
       "       [ -1.19618781,  10.22590508]])"
      ]
     },
     "execution_count": 9,
     "metadata": {},
     "output_type": "execute_result"
    }
   ],
   "source": [
    "points_index = points[tri.simplices[triangle_index]]\n",
    "#tri.simplices[triangle_index]\n",
    "radius_index = r[tri.simplices[triangle_index]]\n",
    "rads= np.hstack([radius_index, radius_index[0]])\n",
    "base = np.vstack([points_index, points_index[0]])\n",
    "base"
   ]
  },
  {
   "cell_type": "code",
   "execution_count": 10,
   "metadata": {
    "collapsed": false
   },
   "outputs": [
    {
     "data": {
      "text/plain": [
       "array([[array([ -1.19618781,  10.22590508]),\n",
       "        array([-0.45579228, -2.7914608 ]), 11.974596972032582,\n",
       "        13.038404810405298, array([[-0.8519912 ,  4.17436511]]),\n",
       "        array([-0.82599004,  3.71722214])],\n",
       "       [array([-0.45579228, -2.7914608 ]),\n",
       "        array([ 7.56256913, -1.95129398]), 6.0766804452325998,\n",
       "        8.0622577482985491, array([[ 3.55040185, -2.37169032]]),\n",
       "        array([ 3.55338842, -2.37137739])],\n",
       "       [array([ 7.56256913, -1.95129398]),\n",
       "        array([ -1.19618781,  10.22590508]), 13.93018632461729, 15.0,\n",
       "        array([[ 2.91407217,  4.51145789]]),\n",
       "        array([ 3.18319066,  4.13730555])]], dtype=object)"
      ]
     },
     "execution_count": 10,
     "metadata": {},
     "output_type": "execute_result"
    }
   ],
   "source": [
    "median =np.array([ [\n",
    "                     base[i], #0 first point [x,y]\n",
    "                     base[i+1], #1 next point [x,y]\n",
    "                    LA.norm(   #2 gap with radius scalar\n",
    "                        np.add(base[i],\n",
    "                            np.multiply(rads[i],\n",
    "                                    np.divide(([base[i+1]-base[i]]),\n",
    "                                             LA.norm([base[i+1]-base[i]]))))\n",
    "                            -\n",
    "                        np.add(base[i+1],\n",
    "                        np.multiply(-rads[i+1],\n",
    "                                    np.divide(([base[i+1]-base[i]]),\n",
    "                                             LA.norm([base[i+1]-base[i]]))))),\n",
    "                    LA.norm([base[i]- base[i+1]]), #3 gap without radius, scalar\n",
    "                    (np.add(base[i], # 4 midpoint with radius\n",
    "                            np.multiply(rads[i],\n",
    "                                    np.divide(([base[i+1]-base[i]]),\n",
    "                                             LA.norm([base[i+1]-base[i]]))))\n",
    "                                +\n",
    "                        np.add(base[i+1],\n",
    "                        np.multiply(-rads[i+1],\n",
    "                                    np.divide(([base[i+1]-base[i]]),\n",
    "                                             LA.norm([base[i+1]-base[i]])))))/2,\n",
    "                    (base[i]+base[i+1])/2 #5 midpoint without radius\n",
    "            \n",
    "                  \n",
    "                   ]\n",
    "\n",
    "                  for i in range(len(points_index)) ])\n",
    "median"
   ]
  },
  {
   "cell_type": "code",
   "execution_count": 11,
   "metadata": {
    "collapsed": false
   },
   "outputs": [
    {
     "name": "stdout",
     "output_type": "stream",
     "text": [
      "3\n",
      "(1, 2)\n",
      "4.17436511115 [[-0.8519912   4.17436511]]\n",
      "(1, 2)\n",
      "-2.37169032349 [[ 3.55040185 -2.37169032]]\n",
      "(1, 2)\n",
      "4.51145789258 [[ 2.91407217  4.51145789]]\n"
     ]
    },
    {
     "data": {
      "text/plain": [
       "<matplotlib.collections.PathCollection at 0x7fa0a68c3978>"
      ]
     },
     "execution_count": 11,
     "metadata": {},
     "output_type": "execute_result"
    },
    {
     "data": {
      "image/png": "[encoded data removed]",
      "text/plain": [
       "<matplotlib.figure.Figure at 0x7fa0d042d240>"
      ]
     },
     "metadata": {},
     "output_type": "display_data"
    }
   ],
   "source": [
    "\n",
    "scat = median[:,4]\n",
    "print(len(scat))\n",
    "for i in scat:\n",
    "    print (i.shape)\n",
    "    print(i[0][1], i)\n",
    "    x = i[0][0]\n",
    "    y = i[0][1]\n",
    "\n",
    "coordinates = np.array([[i[0][0],i[0][1]]for i in scat])\n",
    "plt.scatter(coordinates[:,0], coordinates[:,1], color = 'g')\n",
    "plt.scatter(position[0], position[1])\n",
    "#plt.scatter(scat[:,0],scat[:,1])"
   ]
  },
  {
   "cell_type": "code",
   "execution_count": 12,
   "metadata": {
    "collapsed": false
   },
   "outputs": [
    {
     "data": {
      "text/plain": [
       "0.44721359549995804"
      ]
     },
     "execution_count": 12,
     "metadata": {},
     "output_type": "execute_result"
    }
   ],
   "source": [
    "# np.amax(median, axis=1)\n",
    "#np.add([1,2],[3,4])\n",
    "np.cos(np.arctan(-2/1))"
   ]
  },
  {
   "cell_type": "code",
   "execution_count": 13,
   "metadata": {
    "collapsed": false
   },
   "outputs": [
    {
     "name": "stdout",
     "output_type": "stream",
     "text": [
      "[[ 2.91407217  3.51145789]] [0 1] [[ 2.91407217  4.51145789]] 50.3115575562\n",
      "[-93.96191553] [ 144.27347308]\n",
      "[ 0.87810233] [[-1.6399448]]\n"
     ]
    }
   ],
   "source": [
    "\n",
    "winner_index =median[np.argmax(median[:,2])]\n",
    "dx_dy = winner_index[4]-p\n",
    "psi = np.arctan(dx_dy[0][1]/dx_dy[0][0])\n",
    "print(dx_dy, p,winner_index[4],psi*180/np.pi)\n",
    "new_heading = psi-heading\n",
    "new_head = [np.cos(new_heading), np.sin(new_heading)]\n",
    "print(new_heading*180/np.pi, heading*180/np.pi)\n",
    "psi\n",
    "#dx_dy[0][0]\n",
    "\n",
    "\n",
    "xvector = [1,0]\n",
    "psi = np.arccos(np.dot(dx_dy, xvector)/np.dot(LA.norm(dx_dy), LA.norm(xvector)))#*180/np.pi\n",
    "new_heading =- np.arccos(np.dot(dx_dy, head)/np.dot(LA.norm(dx_dy), LA.norm(head)))#*180/np.pi\n",
    "new_head = [np.cos(new_heading), np.sin(new_heading)]\n",
    "print(psi, new_heading)"
   ]
  },
  {
   "cell_type": "code",
   "execution_count": 19,
   "metadata": {
    "collapsed": false
   },
   "outputs": [
    {
     "name": "stdout",
     "output_type": "stream",
     "text": [
      "3\n",
      "(1, 2)\n",
      "4.17436511115 [[-0.8519912   4.17436511]]\n",
      "(1, 2)\n",
      "-2.37169032349 [[ 3.55040185 -2.37169032]]\n",
      "(1, 2)\n",
      "4.51145789258 [[ 2.91407217  4.51145789]]\n"
     ]
    },
    {
     "data": {
      "text/plain": [
       "[<matplotlib.lines.Line2D at 0x7fa09ecb1780>]"
      ]
     },
     "execution_count": 19,
     "metadata": {},
     "output_type": "execute_result"
    },
    {
     "data": {
      "image/png": "[encoded data removed]",
      "text/plain": [
       "<matplotlib.figure.Figure at 0x7fa09eceb240>"
      ]
     },
     "metadata": {},
     "output_type": "display_data"
    }
   ],
   "source": [
    "fig, ax = plt.subplots()\n",
    "limits = 15\n",
    "ax.set_xlim((-limits, limits))\n",
    "ax.set_ylim((-limits, limits))\n",
    "for c in obstacles:\n",
    "    #print(c)\n",
    "    point =(c[0],c[1])\n",
    "    circle = plt.Circle(point, c[3], color='r')\n",
    "    ax.add_artist(circle)\n",
    "circle = plt.Circle((position[0],position[1]), 0.2, color='b')\n",
    "ax.add_artist(circle)\n",
    "\n",
    "#vec1 = np.multiply(np.ones_like(heading[0:2]),position[0:2])\n",
    "# vec1 = np.hstack([position[0:2], head[0], head[1]])\n",
    "# vec1 =np.array([1,1,1,1])\n",
    "# X, Y, U, V = zip(*vec1)\n",
    "X,Y,U,V = np.hstack([position[0:2], head[0], head[1]])\n",
    "ax = plt.gca()\n",
    "ax.quiver(X, Y, U, V, angles='xy', scale_units='xy', scale=0.5, color= 'b')\n",
    "\n",
    "# X,Y,U,V = np.hstack([position [0:2],np.cos(new_heading[0]), np.sin(new_heading[0])])\n",
    "# ax = plt.gca()\n",
    "# ax.quiver(X, Y, U, V, angles='xy', scale_units='xy', scale=0.5, color= 'g')\n",
    "X,Y,U,V = np.hstack([position [0:2],np.cos(psi), np.sin(psi)])\n",
    "ax = plt.gca()\n",
    "ax.quiver(X, Y, U, V, angles='xy', scale_units='xy', scale=0.5, color= 'r')\n",
    "scat = median[:,4]\n",
    "print(len(scat))\n",
    "for i in scat:\n",
    "    print (i.shape)\n",
    "    print(i[0][1], i)\n",
    "    x = i[0][0]\n",
    "    y = i[0][1]\n",
    "\n",
    "coordinates = np.array([[i[0][0],i[0][1]]for i in scat])\n",
    "plt.scatter(coordinates[:,0], coordinates[:,1], color = 'g')\n",
    "\n",
    "\n",
    "plt.triplot(points[:,0], points[:,1], tri.simplices.copy())\n",
    "plt.plot(points[:,0], points[:,1], 'o')"
   ]
  },
  {
   "cell_type": "code",
   "execution_count": 15,
   "metadata": {
    "collapsed": true
   },
   "outputs": [],
   "source": [
    "# import matplotlib.delaunay as triang\n",
    "# import pylab\n",
    "# import numpy\n",
    "# from numpy import linalg as LA\n",
    "\n",
    "# # 10 random points (x,y) in the plane\n",
    "# x,y =  numpy.array(numpy.random.standard_normal((2,10)))\n",
    "# cens,edg,tri,neig = triang.delaunay(x,y)\n",
    "\n",
    "# for t in tri:\n",
    "#  # t[0], t[1], t[2] are the points indexes of the triangle\n",
    "#  t_i = [t[0], t[1], t[2], t[0]]\n",
    "#  pylab.plot(x[t_i],y[t_i])\n",
    "\n",
    "# pylab.plot(x,y,'o')\n",
    "# pylab.show()\n",
    "#print(x, y, tri, neig)"
   ]
  },
  {
   "cell_type": "code",
   "execution_count": 16,
   "metadata": {
    "collapsed": false
   },
   "outputs": [],
   "source": [
    "\n",
    "# points = np.array([[0,0], [0,10],[4,5], [11,-5]])\n",
    "# r = np.array([0.2,0.5,0.3,0.6])\n",
    "# r = np.ones(4)*0.5\n",
    "# tri = Delaunay(points)\n",
    "# median = points[tri.simplices]\n",
    "# plt.triplot(points[:,0], points[:,1], tri.simplices.copy())\n",
    "# plt.plot(points[:,0], points[:,1], 'o')\n",
    "# r"
   ]
  },
  {
   "cell_type": "code",
   "execution_count": 17,
   "metadata": {
    "collapsed": false
   },
   "outputs": [],
   "source": [
    "# triangle_index = tri.find_simplex(p)\n",
    "# points_index = points[tri.simplices[triangle_index]]\n",
    "# #tri.simplices[triangle_index]\n",
    "# radius_index = r[tri.simplices[triangle_index]]\n",
    "# rads= np.hstack([radius_index, radius_index[0]])\n",
    "# base = np.vstack([points_index, points_index[0]])"
   ]
  },
  {
   "cell_type": "code",
   "execution_count": 18,
   "metadata": {
    "collapsed": false
   },
   "outputs": [],
   "source": [
    "\n",
    "\n",
    "# # for i in range(len(points_index)):\n",
    "# #     median= (base[i]+base[i+1])/2\n",
    "# #     print (base[i], base[i+1], median)\n",
    "    \n",
    "# median =np.array([ [(base[i]+base[i+1]), \n",
    "#                     rads[i]-rads[i+1],\n",
    "#                     #norm new\n",
    "#                     LA.norm(np.add([base[i],base[i+1]],np.multiply([rads[i], -rads[i+1]],np.divide(([base[i+1]-base[i]]),LA.norm([base[i+1]-base[i]]))))),\n",
    "#                     # R times V/V\n",
    "#                     np.multiply([rads[i], -rads[i+1]],np.divide(([base[i+1]-base[i]]),LA.norm([base[i+1]-base[i]]))),\n",
    "#                     # Normalised vector\n",
    "#                     np.divide(([base[i+1]-base[i]]),LA.norm([base[i+1]-base[i]])),\n",
    "#                     # Vector \n",
    "#                     [base[i+1]-base[i]],\n",
    "#                     # New midpoint\n",
    "#                     np.divide(base[i]+base[i+1]+np.multiply((rads[i]-rads[i+1]),np.divide(([base[i+1]-base[i]]),LA.norm([base[i+1]-base[i]]))),2),\n",
    "#                     LA.norm([base[i+1]- base[i]])] \n",
    "#                   for i in range(len(points_index)) ])\n",
    "# median"
   ]
  },
  {
   "cell_type": "code",
   "execution_count": null,
   "metadata": {
    "collapsed": false
   },
   "outputs": [],
   "source": []
  },
  {
   "cell_type": "code",
   "execution_count": null,
   "metadata": {
    "collapsed": false
   },
   "outputs": [],
   "source": []
  },
  {
   "cell_type": "code",
   "execution_count": null,
   "metadata": {
    "collapsed": false
   },
   "outputs": [],
   "source": []
  },
  {
   "cell_type": "code",
   "execution_count": null,
   "metadata": {
    "collapsed": false
   },
   "outputs": [],
   "source": []
  },
  {
   "cell_type": "code",
   "execution_count": null,
   "metadata": {
    "collapsed": false
   },
   "outputs": [],
   "source": [
    "\n",
    "\n"
   ]
  },
  {
   "cell_type": "code",
   "execution_count": null,
   "metadata": {
    "collapsed": true
   },
   "outputs": [],
   "source": []
  }
 ],
 "metadata": {
  "kernelspec": {
   "display_name": "Python 3",
   "language": "python",
   "name": "python3"
  },
  "language_info": {
   "codemirror_mode": {
    "name": "ipython",
    "version": 3
   },
   "file_extension": ".py",
   "mimetype": "text/x-python",
   "name": "python",
   "nbconvert_exporter": "python",
   "pygments_lexer": "ipython3",
   "version": "3.5.2"
  }
 },
 "nbformat": 4,
 "nbformat_minor": 1
}

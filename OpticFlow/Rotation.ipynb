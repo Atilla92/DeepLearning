{
 "cells": [
  {
   "cell_type": "markdown",
   "metadata": {},
   "source": [
    "# Rotate objects and velocity wrt. heading\n"
   ]
  },
  {
   "cell_type": "code",
   "execution_count": 16,
   "metadata": {
    "collapsed": true
   },
   "outputs": [],
   "source": [
    "import numpy as np\n",
    "import matplotlib.pylab as plt\n",
    "import time \n",
    "%matplotlib inline\n",
    "import pickle\n",
    "import sys \n",
    "import os\n",
    "from sphereIntersection import sphere_line_intersection\n",
    "from operator import itemgetter\n",
    "from numpy import linalg as LA"
   ]
  },
  {
   "cell_type": "code",
   "execution_count": 2,
   "metadata": {
    "collapsed": false
   },
   "outputs": [],
   "source": [
    "with open('obstacles.pickle', 'rb') as f:  # Python 3: open(..., 'rb')\n",
    "    obstacle = pickle.load(f)\n",
    "# set heading \n",
    "with open('initialVariables.pickle', 'rb') as f:  # Python 3: open(..., 'rb')\n",
    "    position, velocity,heading =  pickle.load(f)\n"
   ]
  },
  {
   "cell_type": "code",
   "execution_count": 3,
   "metadata": {
    "collapsed": false
   },
   "outputs": [
    {
     "data": {
      "image/png": "[encoded data removed]",
      "text/plain": [
       "<matplotlib.figure.Figure at 0x7fef173c3588>"
      ]
     },
     "metadata": {},
     "output_type": "display_data"
    }
   ],
   "source": [
    "vec1 = np.multiply(np.ones_like(obstacle[:,0:2]),position[0:2])\n",
    "vec1 = np.column_stack([vec1, obstacle[:,0:2]])\n",
    "X, Y, U, V = zip(*vec1)\n",
    "plt.figure()\n",
    "ax = plt.gca()\n",
    "x = ax.quiver(X, Y, U, V, angles='xy', scale_units='xy', scale=1)\n",
    "ax.set_xlim([-20, 20])\n",
    "ax.set_ylim([-20, 20])\n",
    "y = plt.scatter(position[0], position[1])\n",
    "plt.draw()\n"
   ]
  },
  {
   "cell_type": "code",
   "execution_count": 4,
   "metadata": {
    "collapsed": false
   },
   "outputs": [],
   "source": [
    "obstacles = obstacle\n",
    "alpha= -heading[0] # negative rotation about z axis\n",
    "rot = np.array([np.cos(alpha), -np.sin(alpha), 0,np.sin(alpha), np.cos(alpha),0, 0,0,1])\n",
    "rot = rot.reshape(3,3)\n",
    "mat_rot= np.array([[np.dot(rot, i)] for i in obstacles[:,0:3]])\n",
    "[r,d,c] = mat_rot.shape\n",
    "obstacles_rot = mat_rot.reshape(r,c)\n",
    "obstacles[:,0:3]=obstacles_rot\n",
    "#print(obstacles)"
   ]
  },
  {
   "cell_type": "code",
   "execution_count": 5,
   "metadata": {
    "collapsed": false
   },
   "outputs": [
    {
     "data": {
      "image/png": "[encoded data removed]",
      "text/plain": [
       "<matplotlib.figure.Figure at 0x7fef173e0828>"
      ]
     },
     "metadata": {},
     "output_type": "display_data"
    }
   ],
   "source": [
    "vec1 = np.multiply(np.ones_like(obstacles[:,0:2]),position[0:2])\n",
    "vec1 = np.column_stack([vec1, obstacles[:,0:2]])\n",
    "X, Y, U, V = zip(*vec1)\n",
    "ax = plt.gca()\n",
    "ax.quiver(X, Y, U, V, angles='xy', scale_units='xy', scale=1, color= 'b')\n",
    "ax.set_xlim([-20, 20])\n",
    "ax.set_ylim([-20, 20])\n",
    "plt.draw()\n",
    "plt.show()"
   ]
  },
  {
   "cell_type": "code",
   "execution_count": 6,
   "metadata": {
    "collapsed": false
   },
   "outputs": [],
   "source": [
    "#  Velocity rotation\n",
    "vel_rot = np.dot(rot, velocity)\n",
    "\n",
    "\n"
   ]
  },
  {
   "cell_type": "code",
   "execution_count": 7,
   "metadata": {
    "collapsed": false
   },
   "outputs": [
    {
     "data": {
      "text/plain": [
       "array([[ 0.5018485 , -2.17902457,  0.        ,  2.        ],\n",
       "       [-0.90593594, -2.04432876,  0.        ,  1.        ],\n",
       "       [-2.81556889,  0.26939163,  0.        ,  2.        ],\n",
       "       [ 0.5018485 , -2.17902457,  0.        ,  1.        ],\n",
       "       [-1.04063176, -3.4521132 ,  0.        ,  1.        ],\n",
       "       [-1.54248026, -1.27308863,  0.        ,  2.        ],\n",
       "       [-0.26939163, -2.81556889,  0.        ,  2.        ],\n",
       "       [ 2.9502647 ,  1.13839281,  0.        ,  2.        ],\n",
       "       [ 1.04063176,  3.4521132 ,  0.        ,  1.        ],\n",
       "       [ 4.22335333, -0.40408745,  0.        ,  1.        ]])"
      ]
     },
     "execution_count": 7,
     "metadata": {},
     "output_type": "execute_result"
    }
   ],
   "source": [
    "obstacles"
   ]
  },
  {
   "cell_type": "code",
   "execution_count": 8,
   "metadata": {
    "collapsed": false
   },
   "outputs": [],
   "source": [
    "with open('obsRotated.pickle', 'wb') as f:  # Python 3: open(..., 'wb')\n",
    "    pickle.dump([obstacles,vel_rot], f)\n"
   ]
  },
  {
   "cell_type": "code",
   "execution_count": 43,
   "metadata": {
    "collapsed": false
   },
   "outputs": [
    {
     "name": "stdout",
     "output_type": "stream",
     "text": [
      "[ 0.5018485  -0.90593594 -2.81556889  0.5018485  -1.04063176 -1.54248026\n",
      " -0.26939163  2.9502647   1.04063176  4.22335333]\n",
      "[[-1.4981515   1.17902457]\n",
      " [-0.09406406  2.04432876]\n",
      " [ 0.81556889 -1.26939163]\n",
      " [-0.4981515   2.17902457]\n",
      " [ 0.04063176  3.4521132 ]\n",
      " [-0.45751974  0.27308863]\n",
      " [-1.73060837  1.81556889]\n",
      " [ 0.9502647  -1.86160719]\n",
      " [ 0.04063176  1.4521132 ]\n",
      " [ 3.22335333  0.40408745]]\n"
     ]
    },
    {
     "data": {
      "text/plain": [
       "[[1.9064513792462481],\n",
       " [2.046491659384635],\n",
       " [1.5088100337460535],\n",
       " [2.2352411508523056],\n",
       " [3.4523523113600851],\n",
       " [0.53282427966984414],\n",
       " [2.5082455438171545],\n",
       " [2.0901158631691015],\n",
       " [1.4526815493778902],\n",
       " [3.2485832824761083]]"
      ]
     },
     "execution_count": 43,
     "metadata": {},
     "output_type": "execute_result"
    }
   ],
   "source": [
    "u =(obstacle[:,0:2]-position[0:2])\n",
    "print(u[:,0])\n",
    "u1 = np.abs(u[:,0])-obstacles[:,3]\n",
    "\n",
    "u2 = np.abs(u[:,1])-obstacles[:,3]\n",
    "u = np.column_stack([u1,u2])\n",
    "print(u)\n",
    "p = [[LA.norm(a)] for a in u]\n",
    "p"
   ]
  },
  {
   "cell_type": "code",
   "execution_count": 34,
   "metadata": {
    "collapsed": false
   },
   "outputs": [
    {
     "ename": "ValueError",
     "evalue": "operands could not be broadcast together with shapes (10,2) (10,) ",
     "output_type": "error",
     "traceback": [
      "\u001b[0;31m---------------------------------------------------------------------------\u001b[0m",
      "\u001b[0;31mValueError\u001b[0m                                Traceback (most recent call last)",
      "\u001b[0;32m<ipython-input-34-79bbb33d5a14>\u001b[0m in \u001b[0;36m<module>\u001b[0;34m()\u001b[0m\n\u001b[0;32m----> 1\u001b[0;31m \u001b[0mnp\u001b[0m\u001b[0;34m.\u001b[0m\u001b[0mmultiply\u001b[0m\u001b[0;34m(\u001b[0m\u001b[0mnp\u001b[0m\u001b[0;34m.\u001b[0m\u001b[0mones_like\u001b[0m\u001b[0;34m(\u001b[0m\u001b[0mu\u001b[0m\u001b[0;34m)\u001b[0m\u001b[0;34m,\u001b[0m\u001b[0mobstacle\u001b[0m\u001b[0;34m[\u001b[0m\u001b[0;34m:\u001b[0m\u001b[0;34m,\u001b[0m\u001b[0;36m3\u001b[0m\u001b[0;34m]\u001b[0m\u001b[0;34m)\u001b[0m\u001b[0;34m\u001b[0m\u001b[0m\n\u001b[0m",
      "\u001b[0;31mValueError\u001b[0m: operands could not be broadcast together with shapes (10,2) (10,) "
     ]
    }
   ],
   "source": []
  },
  {
   "cell_type": "code",
   "execution_count": null,
   "metadata": {
    "collapsed": true
   },
   "outputs": [],
   "source": []
  }
 ],
 "metadata": {
  "kernelspec": {
   "display_name": "Python 3",
   "language": "python",
   "name": "python3"
  },
  "language_info": {
   "codemirror_mode": {
    "name": "ipython",
    "version": 3
   },
   "file_extension": ".py",
   "mimetype": "text/x-python",
   "name": "python",
   "nbconvert_exporter": "python",
   "pygments_lexer": "ipython3",
   "version": "3.5.2"
  }
 },
 "nbformat": 4,
 "nbformat_minor": 1
}

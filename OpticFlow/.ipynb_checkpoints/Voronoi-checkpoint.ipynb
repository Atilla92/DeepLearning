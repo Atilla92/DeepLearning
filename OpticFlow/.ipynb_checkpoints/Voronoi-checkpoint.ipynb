{
 "cells": [
  {
   "cell_type": "markdown",
   "metadata": {},
   "source": [
    "# 1 Voronoi"
   ]
  },
  {
   "cell_type": "code",
   "execution_count": 1,
   "metadata": {
    "collapsed": false
   },
   "outputs": [],
   "source": [
    "import numpy as np\n",
    "import matplotlib.pylab as plt\n",
    "import time \n",
    "%matplotlib inline\n",
    "import pickle\n",
    "import scipy \n",
    "from scipy.spatial import Delaunay\n",
    "from numpy import linalg as LA"
   ]
  },
  {
   "cell_type": "code",
   "execution_count": 11,
   "metadata": {
    "collapsed": false
   },
   "outputs": [],
   "source": [
    "with open('initialVariables.pickle', 'rb') as f:  # Python 3: open(..., 'rb')\n",
    "    position, __ , heading = pickle.load(f)\n",
    "with open('obsRotated.pickle', 'rb') as f:  # Python 3: open(..., 'rb')\n",
    "    obstacles, __ = pickle.load(f)"
   ]
  },
  {
   "cell_type": "code",
   "execution_count": 77,
   "metadata": {
    "collapsed": false
   },
   "outputs": [],
   "source": [
    "points = np.array(obstacles[:,0:2])\n",
    "p = position[0:2]\n",
    "r = obstacles [:,3]"
   ]
  },
  {
   "cell_type": "code",
   "execution_count": 78,
   "metadata": {
    "collapsed": false
   },
   "outputs": [
    {
     "data": {
      "text/plain": [
       "array([[ 0.5018485 , -2.17902457],\n",
       "       [-0.90593594, -2.04432876],\n",
       "       [-2.81556889,  0.26939163],\n",
       "       [ 0.5018485 , -2.17902457],\n",
       "       [-1.04063176, -3.4521132 ],\n",
       "       [-1.54248026, -1.27308863],\n",
       "       [-0.26939163, -2.81556889],\n",
       "       [ 2.9502647 ,  1.13839281],\n",
       "       [ 1.04063176,  3.4521132 ],\n",
       "       [ 4.22335333, -0.40408745]])"
      ]
     },
     "execution_count": 78,
     "metadata": {},
     "output_type": "execute_result"
    }
   ],
   "source": [
    "points"
   ]
  },
  {
   "cell_type": "code",
   "execution_count": 79,
   "metadata": {
    "collapsed": false
   },
   "outputs": [],
   "source": [
    "#points = np.array([[-2, 0], [0, 1.1], [1, 0], [1, 1], [3,4]])\n",
    "\n",
    "tri = Delaunay(points)"
   ]
  },
  {
   "cell_type": "code",
   "execution_count": 80,
   "metadata": {
    "collapsed": false
   },
   "outputs": [],
   "source": [
    "median = points[tri.simplices]"
   ]
  },
  {
   "cell_type": "code",
   "execution_count": 81,
   "metadata": {
    "collapsed": false
   },
   "outputs": [],
   "source": [
    "#p = np.array([0.1, 0.6])"
   ]
  },
  {
   "cell_type": "code",
   "execution_count": 82,
   "metadata": {
    "collapsed": false
   },
   "outputs": [
    {
     "data": {
      "text/plain": [
       "array([ 2.,  1.,  2.,  1.,  1.,  2.,  2.,  2.,  1.,  1.])"
      ]
     },
     "execution_count": 82,
     "metadata": {},
     "output_type": "execute_result"
    }
   ],
   "source": [
    "r"
   ]
  },
  {
   "cell_type": "code",
   "execution_count": 83,
   "metadata": {
    "collapsed": false
   },
   "outputs": [],
   "source": [
    "triangle_index = tri.find_simplex(p)"
   ]
  },
  {
   "cell_type": "code",
   "execution_count": 84,
   "metadata": {
    "collapsed": false
   },
   "outputs": [
    {
     "data": {
      "text/plain": [
       "array([ 1.89372404, -1.64879138, -0.14680222,  2.40438747,  2.51907612,\n",
       "       -2.03237559, -1.89879344,  0.75385832, -0.83336034, -1.34792795,\n",
       "       -1.28039329])"
      ]
     },
     "execution_count": 84,
     "metadata": {},
     "output_type": "execute_result"
    }
   ],
   "source": [
    "tri.plane_distance(p)"
   ]
  },
  {
   "cell_type": "code",
   "execution_count": 85,
   "metadata": {
    "collapsed": false,
    "scrolled": true
   },
   "outputs": [
    {
     "data": {
      "text/plain": [
       "array([[ 0.5018485 , -2.17902457,  0.        ,  2.        ],\n",
       "       [-0.90593594, -2.04432876,  0.        ,  1.        ],\n",
       "       [-2.81556889,  0.26939163,  0.        ,  2.        ],\n",
       "       [ 0.5018485 , -2.17902457,  0.        ,  1.        ],\n",
       "       [-1.04063176, -3.4521132 ,  0.        ,  1.        ],\n",
       "       [-1.54248026, -1.27308863,  0.        ,  2.        ],\n",
       "       [-0.26939163, -2.81556889,  0.        ,  2.        ],\n",
       "       [ 2.9502647 ,  1.13839281,  0.        ,  2.        ],\n",
       "       [ 1.04063176,  3.4521132 ,  0.        ,  1.        ],\n",
       "       [ 4.22335333, -0.40408745,  0.        ,  1.        ]])"
      ]
     },
     "execution_count": 85,
     "metadata": {},
     "output_type": "execute_result"
    }
   ],
   "source": [
    "obstacles"
   ]
  },
  {
   "cell_type": "code",
   "execution_count": 86,
   "metadata": {
    "collapsed": false
   },
   "outputs": [],
   "source": [
    "points_index = points[tri.simplices[triangle_index]]\n",
    "#tri.simplices[triangle_index]\n",
    "radius_index = r[tri.simplices[triangle_index]]\n",
    "rads= np.hstack([radius_index, radius_index[0]])\n",
    "base = np.vstack([points_index, points_index[0]])\n"
   ]
  },
  {
   "cell_type": "code",
   "execution_count": 96,
   "metadata": {
    "collapsed": false
   },
   "outputs": [
    {
     "data": {
      "text/plain": [
       "array([[array([ 1.40778444, -0.13469582]), 0.0, 5.9971576153283586,\n",
       "        array([[ 2.40147319, -1.28899105]]),\n",
       "        array([[ 1.2007366 ,  0.64449552]]),\n",
       "        [array([ 4.49274496,  2.41148144])],\n",
       "        array([[ 0.70389222, -0.06734791]]), 3.7416573867739413],\n",
       "       [array([ 3.99089646,  4.59050601]), 1.0, 3.7347182337863067,\n",
       "        array([[-0.79637199, -0.48244405]]),\n",
       "        array([[-0.39818599,  0.48244405]]),\n",
       "        [array([-1.90963294,  2.31372039])],\n",
       "        array([[ 1.79635523,  2.53647503]]), 4.7958315233127191],\n",
       "       [array([-0.5018485 ,  2.17902457]), -1.0, 6.2377713376166462,\n",
       "        array([[-0.62649669,  2.29205956]]),\n",
       "        array([[-0.62649669, -1.14602978]]),\n",
       "        [array([-2.58311202, -4.72520183])],\n",
       "        array([[ 0.06232409,  1.66252718]]), 4.1231056256176606]], dtype=object)"
      ]
     },
     "execution_count": 96,
     "metadata": {},
     "output_type": "execute_result"
    }
   ],
   "source": [
    "\n",
    "\n",
    "# for i in range(len(points_index)):\n",
    "#     median= (base[i]+base[i+1])/2\n",
    "#     print (base[i], base[i+1], median)\n",
    "    \n",
    "median =np.array([ [(base[i]+base[i+1]), \n",
    "                    rads[i]-rads[i+1],\n",
    "                    #norm new\n",
    "                    LA.norm(np.add([base[i],base[i+1]],np.multiply([rads[i], -rads[i+1]],np.divide(([base[i+1]-base[i]]),LA.norm([base[i+1],base[i]]))))),\n",
    "                    # R times V/V\n",
    "                    np.multiply([rads[i], -rads[i+1]],np.divide(([base[i+1]-base[i]]),LA.norm([base[i+1],base[i]]))),\n",
    "                    # Normalised vector\n",
    "                    np.divide(([base[i+1]-base[i]]),LA.norm([base[i+1],base[i]])),\n",
    "                    # Vector \n",
    "                    [base[i+1]-base[i]],\n",
    "                    # New midpoint\n",
    "                    np.divide(base[i]+base[i+1]+np.multiply((rads[i]-rads[i+1]),np.divide(([base[i+1]-base[i]]),LA.norm([base[i+1],base[i]]))),2),\n",
    "                    LA.norm([base[i], base[i+1]])] \n",
    "                  for i in range(len(points_index)) ])\n",
    "median"
   ]
  },
  {
   "cell_type": "code",
   "execution_count": 88,
   "metadata": {
    "collapsed": false
   },
   "outputs": [
    {
     "data": {
      "text/plain": [
       "array([4, 6])"
      ]
     },
     "execution_count": 88,
     "metadata": {},
     "output_type": "execute_result"
    }
   ],
   "source": [
    "# np.amax(median, axis=1)\n",
    "np.add([1,2],[3,4])"
   ]
  },
  {
   "cell_type": "code",
   "execution_count": 23,
   "metadata": {
    "collapsed": false
   },
   "outputs": [
    {
     "name": "stdout",
     "output_type": "stream",
     "text": [
      "[ 1.99544823  2.29525301] [0 0] [ 1.99544823  2.29525301]\n"
     ]
    }
   ],
   "source": [
    "\n",
    "winner_index =median[np.argmax(median[:,1])]\n",
    "dx_dy = winner_index[0]-p\n",
    "psi = np.arctan(dx_dy[1]/dx_dy[0])\n",
    "print(dx_dy, p,winner_index[0])\n",
    "new_heading = psi-heading\n"
   ]
  },
  {
   "cell_type": "code",
   "execution_count": null,
   "metadata": {
    "collapsed": true
   },
   "outputs": [],
   "source": [
    "# import matplotlib.delaunay as triang\n",
    "# import pylab\n",
    "# import numpy\n",
    "# from numpy import linalg as LA\n",
    "\n",
    "# # 10 random points (x,y) in the plane\n",
    "# x,y =  numpy.array(numpy.random.standard_normal((2,10)))\n",
    "# cens,edg,tri,neig = triang.delaunay(x,y)\n",
    "\n",
    "# for t in tri:\n",
    "#  # t[0], t[1], t[2] are the points indexes of the triangle\n",
    "#  t_i = [t[0], t[1], t[2], t[0]]\n",
    "#  pylab.plot(x[t_i],y[t_i])\n",
    "\n",
    "# pylab.plot(x,y,'o')\n",
    "# pylab.show()\n",
    "#print(x, y, tri, neig)"
   ]
  }
 ],
 "metadata": {
  "kernelspec": {
   "display_name": "Python 3",
   "language": "python",
   "name": "python3"
  },
  "language_info": {
   "codemirror_mode": {
    "name": "ipython",
    "version": 3
   },
   "file_extension": ".py",
   "mimetype": "text/x-python",
   "name": "python",
   "nbconvert_exporter": "python",
   "pygments_lexer": "ipython3",
   "version": "3.5.2"
  }
 },
 "nbformat": 4,
 "nbformat_minor": 1
}

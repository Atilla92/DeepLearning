{
 "cells": [
  {
   "cell_type": "markdown",
   "metadata": {},
   "source": [
    "# 1 Delaunay\n",
    "\n",
    "\n",
    "Assumptions:\n",
    "<ol>\n",
    "<li> Symmetric horizontal flight: heading can only change along z/axis (yaw), therefore objects are all placed along the x-y plane (z = 0), so the simulation is reduced to 2D.</li>\n",
    "<li> Trajectory path calculated according to midpoints of delaunay triangles (basis for Voronoi diagrams).</li>\n",
    "<li> The radius of the objects is taken into account. The gab between two obstacles and the midpoints are calculated accordingly </li>\n",
    "<li> In order to prevent obstacles to overlap a constraint is set on min distance between objects, and max radius. Equally, a constraint has to be set on  the beginning position, such that it does not start at the location of a particular interference. \n",
    "\n"
   ]
  },
  {
   "cell_type": "code",
   "execution_count": 1,
   "metadata": {
    "collapsed": false
   },
   "outputs": [],
   "source": [
    "import numpy as np\n",
    "import matplotlib.pylab as plt\n",
    "import time \n",
    "%matplotlib inline\n",
    "import pickle\n",
    "import scipy \n",
    "from scipy.spatial import Delaunay\n",
    "from numpy import linalg as LA\n",
    "import matplotlib.pyplot as plt\n",
    "from graphics import *\n",
    "#win = GraphWin()\n",
    "#win.close()"
   ]
  },
  {
   "cell_type": "code",
   "execution_count": 2,
   "metadata": {
    "collapsed": false
   },
   "outputs": [],
   "source": [
    "#Load obstaclesm position and heading\n",
    "\n",
    "with open('initialVariables.pickle', 'rb') as f:  # Python 3: open(..., 'rb')\n",
    "    position, velocity , heading = pickle.load(f)\n",
    "# with open('obsRotated.pickle', 'rb') as f:  # Python 3: open(..., 'rb')\n",
    "#     obstacles, __ = pickle.load(f)\n",
    "with open('obstacles.pickle', 'rb') as f:  # Python 3: open(..., 'rb')\n",
    "    obstacles, __,__,__ = pickle.load(f)"
   ]
  },
  {
   "cell_type": "code",
   "execution_count": 3,
   "metadata": {
    "collapsed": false
   },
   "outputs": [],
   "source": [
    "#obtsacles = np.array(obstacles)\n",
    "\n"
   ]
  },
  {
   "cell_type": "code",
   "execution_count": 4,
   "metadata": {
    "collapsed": false
   },
   "outputs": [],
   "source": [
    "# Obstacles, radius, and position\n",
    "points = np.array(obstacles)[:,0:2]\n",
    "p = position[0:2]\n",
    "r = np.array(obstacles) [:,3]\n",
    "# Heading in cartesian coordinates\n",
    "head = np.array([np.cos(heading), np.sin(heading)])\n"
   ]
  },
  {
   "cell_type": "code",
   "execution_count": 5,
   "metadata": {
    "collapsed": false
   },
   "outputs": [],
   "source": [
    "# Determine Delanauy triangles, simplices and respective points\n",
    "tri = Delaunay(points)\n",
    "median = points[tri.simplices]\n",
    "# Determine in which triangle point is located\n",
    "triangle_index = tri.find_simplex(p)\n",
    "# Extract properties of this triangle, radius, points\n",
    "points_index = points[tri.simplices[triangle_index]]\n",
    "radius_index = r[tri.simplices[triangle_index]]\n",
    "# Add last first element again for loop\n",
    "rads= np.hstack([radius_index, radius_index[0]])\n",
    "base = np.vstack([points_index, points_index[0]])\n"
   ]
  },
  {
   "cell_type": "code",
   "execution_count": 6,
   "metadata": {
    "collapsed": false
   },
   "outputs": [],
   "source": [
    "\n",
    "# Estimate median of triangle in which the drone is located\n",
    "# Median with raidus taken into acount, and median without radius taken into account \n",
    "median =np.array([ [\n",
    "                     base[i], #0 first point [x,y]\n",
    "                     base[i+1], #1 next point [x,y]\n",
    "                    LA.norm(   #2 gap with radius scalar\n",
    "                        np.add(base[i],\n",
    "                            np.multiply(rads[i],\n",
    "                                    np.divide(([base[i+1]-base[i]]),\n",
    "                                             LA.norm([base[i+1]-base[i]]))))\n",
    "                            -\n",
    "                        np.add(base[i+1],\n",
    "                        np.multiply(-rads[i+1],\n",
    "                                    np.divide(([base[i+1]-base[i]]),\n",
    "                                             LA.norm([base[i+1]-base[i]]))))),\n",
    "                    LA.norm([base[i]- base[i+1]]), #3 gap without radius, scalar\n",
    "                    (np.add(base[i], # 4 midpoint with radius\n",
    "                            np.multiply(rads[i],\n",
    "                                    np.divide(([base[i+1]-base[i]]),\n",
    "                                             LA.norm([base[i+1]-base[i]]))))\n",
    "                                +\n",
    "                        np.add(base[i+1],\n",
    "                        np.multiply(-rads[i+1],\n",
    "                                    np.divide(([base[i+1]-base[i]]),\n",
    "                                             LA.norm([base[i+1]-base[i]])))))/2,\n",
    "                    (base[i]+base[i+1])/2 #5 midpoint without radius\n",
    "            \n",
    "                  \n",
    "                   ]\n",
    "\n",
    "                  for i in range(len(points_index)) ])\n",
    "\n"
   ]
  },
  {
   "cell_type": "code",
   "execution_count": 7,
   "metadata": {
    "collapsed": false
   },
   "outputs": [
    {
     "name": "stdout",
     "output_type": "stream",
     "text": [
      "1.81577498992 [ 5.10291872] [-3.28714373]\n"
     ]
    }
   ],
   "source": [
    "winner_index =median[np.argmax(median[:,2])]\n",
    "dx_dy = winner_index[4]-p\n",
    "y1 = dx_dy[0]\n",
    "psi = np.arctan2(y1[1],y1[0])\n",
    "if psi<0:\n",
    "    psi = 2*np.pi+psi\n",
    "new_heading = psi-heading \n",
    "print(psi, heading, new_heading )"
   ]
  },
  {
   "cell_type": "markdown",
   "metadata": {},
   "source": [
    "# Sanity check"
   ]
  },
  {
   "cell_type": "code",
   "execution_count": 8,
   "metadata": {
    "collapsed": false
   },
   "outputs": [
    {
     "name": "stdout",
     "output_type": "stream",
     "text": [
      "3\n",
      "(1, 2)\n",
      "3.67054982957 [[ 1.65890034  3.67054983]]\n",
      "(1, 2)\n",
      "6.51237366644 [[ 3.87190658  6.51237367]]\n",
      "(1, 2)\n",
      "8.7015934964 [[ 1.05239024  8.7015935 ]]\n"
     ]
    },
    {
     "data": {
      "text/plain": [
       "<matplotlib.collections.PathCollection at 0x7f6b9a8028d0>"
      ]
     },
     "execution_count": 8,
     "metadata": {},
     "output_type": "execute_result"
    },
    {
     "data": {
      "image/png": "[encoded data removed]",
      "text/plain": [
       "<matplotlib.figure.Figure at 0x7f6b983f4208>"
      ]
     },
     "metadata": {},
     "output_type": "display_data"
    }
   ],
   "source": [
    "\n",
    "scat = median[:,4]\n",
    "print(len(scat))\n",
    "for i in scat:\n",
    "    print (i.shape)\n",
    "    print(i[0][1], i)\n",
    "    x = i[0][0]\n",
    "    y = i[0][1]\n",
    "\n",
    "coordinates = np.array([[i[0][0],i[0][1]]for i in scat])\n",
    "plt.scatter(coordinates[:,0], coordinates[:,1], color = 'g')\n",
    "plt.scatter(p[0], p[1])\n",
    "#plt.scatter(scat[:,0],scat[:,1])"
   ]
  },
  {
   "cell_type": "code",
   "execution_count": 9,
   "metadata": {
    "collapsed": false
   },
   "outputs": [
    {
     "name": "stdout",
     "output_type": "stream",
     "text": [
      "3\n",
      "(1, 2)\n",
      "3.67054982957 [[ 1.65890034  3.67054983]]\n",
      "(1, 2)\n",
      "6.51237366644 [[ 3.87190658  6.51237367]]\n",
      "(1, 2)\n",
      "8.7015934964 [[ 1.05239024  8.7015935 ]]\n"
     ]
    },
    {
     "data": {
      "text/plain": [
       "[<matplotlib.lines.Line2D at 0x7f6b92d42fd0>]"
      ]
     },
     "execution_count": 9,
     "metadata": {},
     "output_type": "execute_result"
    },
    {
     "data": {
      "image/png": "[encoded data removed]",
      "text/plain": [
       "<matplotlib.figure.Figure at 0x7f6b92c41dd8>"
      ]
     },
     "metadata": {},
     "output_type": "display_data"
    }
   ],
   "source": [
    "fig, ax = plt.subplots()\n",
    "limits = 15\n",
    "ax.set_xlim((-limits, limits))\n",
    "ax.set_ylim((-limits, limits))\n",
    "for c in obstacles:\n",
    "    #print(c)\n",
    "    point =(c[0],c[1])\n",
    "    circle = plt.Circle(point, c[3], color='r')\n",
    "    ax.add_artist(circle)\n",
    "circle = plt.Circle((p[0],p[1]), 0.2, color='b')\n",
    "ax.add_artist(circle)\n",
    "\n",
    "#vec1 = np.multiply(np.ones_like(heading[0:2]),position[0:2])\n",
    "# vec1 = np.hstack([position[0:2], head[0], head[1]])\n",
    "# vec1 =np.array([1,1,1,1])\n",
    "# X, Y, U, V = zip(*vec1)\n",
    "X,Y,U,V = np.hstack([p[0:2], head[0], head[1]])\n",
    "ax = plt.gca()\n",
    "ax.quiver(X, Y, U, V, angles='xy', scale_units='xy', scale=0.5, color= 'b')\n",
    "\n",
    "X,Y,U,V = np.hstack([p[0:2],velocity[0], velocity[1]])\n",
    "ax = plt.gca()\n",
    "ax.quiver(X, Y, U, V, angles='xy', scale_units='xy', scale=0.5, color= 'g')\n",
    "X,Y,U,V = np.hstack([p [0:2],np.cos(psi), np.sin(psi)])\n",
    "ax = plt.gca()\n",
    "ax.quiver(X, Y, U, V, angles='xy', scale_units='xy', scale=0.5, color= 'r')\n",
    "scat = median[:,4]\n",
    "print(len(scat))\n",
    "for i in scat:\n",
    "    print (i.shape)\n",
    "    print(i[0][1], i)\n",
    "    x = i[0][0]\n",
    "    y = i[0][1]\n",
    "\n",
    "coordinates = np.array([[i[0][0],i[0][1]]for i in scat])\n",
    "plt.scatter(coordinates[:,0], coordinates[:,1], color = 'g')\n",
    "\n",
    "\n",
    "plt.triplot(points[:,0], points[:,1], tri.simplices.copy())\n",
    "plt.plot(points[:,0], points[:,1], 'o')"
   ]
  },
  {
   "cell_type": "code",
   "execution_count": 10,
   "metadata": {
    "collapsed": true
   },
   "outputs": [],
   "source": [
    "# import matplotlib.delaunay as triang\n",
    "# import pylab\n",
    "# import numpy\n",
    "# from numpy import linalg as LA\n",
    "\n",
    "# # 10 random points (x,y) in the plane\n",
    "# x,y =  numpy.array(numpy.random.standard_normal((2,10)))\n",
    "# cens,edg,tri,neig = triang.delaunay(x,y)\n",
    "\n",
    "# for t in tri:\n",
    "#  # t[0], t[1], t[2] are the points indexes of the triangle\n",
    "#  t_i = [t[0], t[1], t[2], t[0]]\n",
    "#  pylab.plot(x[t_i],y[t_i])\n",
    "\n",
    "# pylab.plot(x,y,'o')\n",
    "# pylab.show()\n",
    "#print(x, y, tri, neig)"
   ]
  },
  {
   "cell_type": "code",
   "execution_count": 11,
   "metadata": {
    "collapsed": false
   },
   "outputs": [],
   "source": [
    "\n",
    "# points = np.array([[0,0], [0,10],[4,5], [11,-5]])\n",
    "# r = np.array([0.2,0.5,0.3,0.6])\n",
    "# r = np.ones(4)*0.5\n",
    "# tri = Delaunay(points)\n",
    "# median = points[tri.simplices]\n",
    "# plt.triplot(points[:,0], points[:,1], tri.simplices.copy())\n",
    "# plt.plot(points[:,0], points[:,1], 'o')\n",
    "# r"
   ]
  },
  {
   "cell_type": "code",
   "execution_count": 12,
   "metadata": {
    "collapsed": false
   },
   "outputs": [],
   "source": [
    "# triangle_index = tri.find_simplex(p)\n",
    "# points_index = points[tri.simplices[triangle_index]]\n",
    "# #tri.simplices[triangle_index]\n",
    "# radius_index = r[tri.simplices[triangle_index]]\n",
    "# rads= np.hstack([radius_index, radius_index[0]])\n",
    "# base = np.vstack([points_index, points_index[0]])"
   ]
  },
  {
   "cell_type": "code",
   "execution_count": 13,
   "metadata": {
    "collapsed": false
   },
   "outputs": [],
   "source": [
    "\n",
    "\n",
    "# # for i in range(len(points_index)):\n",
    "# #     median= (base[i]+base[i+1])/2\n",
    "# #     print (base[i], base[i+1], median)\n",
    "    \n",
    "# median =np.array([ [(base[i]+base[i+1]), \n",
    "#                     rads[i]-rads[i+1],\n",
    "#                     #norm new\n",
    "#                     LA.norm(np.add([base[i],base[i+1]],np.multiply([rads[i], -rads[i+1]],np.divide(([base[i+1]-base[i]]),LA.norm([base[i+1]-base[i]]))))),\n",
    "#                     # R times V/V\n",
    "#                     np.multiply([rads[i], -rads[i+1]],np.divide(([base[i+1]-base[i]]),LA.norm([base[i+1]-base[i]]))),\n",
    "#                     # Normalised vector\n",
    "#                     np.divide(([base[i+1]-base[i]]),LA.norm([base[i+1]-base[i]])),\n",
    "#                     # Vector \n",
    "#                     [base[i+1]-base[i]],\n",
    "#                     # New midpoint\n",
    "#                     np.divide(base[i]+base[i+1]+np.multiply((rads[i]-rads[i+1]),np.divide(([base[i+1]-base[i]]),LA.norm([base[i+1]-base[i]]))),2),\n",
    "#                     LA.norm([base[i+1]- base[i]])] \n",
    "#                   for i in range(len(points_index)) ])\n",
    "# median"
   ]
  },
  {
   "cell_type": "code",
   "execution_count": null,
   "metadata": {
    "collapsed": false
   },
   "outputs": [],
   "source": []
  },
  {
   "cell_type": "code",
   "execution_count": null,
   "metadata": {
    "collapsed": false
   },
   "outputs": [],
   "source": []
  },
  {
   "cell_type": "code",
   "execution_count": null,
   "metadata": {
    "collapsed": false
   },
   "outputs": [],
   "source": []
  },
  {
   "cell_type": "code",
   "execution_count": null,
   "metadata": {
    "collapsed": false
   },
   "outputs": [],
   "source": []
  },
  {
   "cell_type": "code",
   "execution_count": null,
   "metadata": {
    "collapsed": false
   },
   "outputs": [],
   "source": [
    "\n",
    "\n"
   ]
  },
  {
   "cell_type": "code",
   "execution_count": null,
   "metadata": {
    "collapsed": true
   },
   "outputs": [],
   "source": []
  }
 ],
 "metadata": {
  "kernelspec": {
   "display_name": "Python 3",
   "language": "python",
   "name": "python3"
  },
  "language_info": {
   "codemirror_mode": {
    "name": "ipython",
    "version": 3
   },
   "file_extension": ".py",
   "mimetype": "text/x-python",
   "name": "python",
   "nbconvert_exporter": "python",
   "pygments_lexer": "ipython3",
   "version": "3.5.2"
  }
 },
 "nbformat": 4,
 "nbformat_minor": 1
}

{
 "cells": [
  {
   "cell_type": "markdown",
   "metadata": {},
   "source": [
    "# Intial variables"
   ]
  },
  {
   "cell_type": "code",
   "execution_count": 1,
   "metadata": {
    "collapsed": false
   },
   "outputs": [],
   "source": [
    "import numpy as np\n",
    "from random import randint\n",
    "import pickle\n",
    "from numpy import linalg as LA\n",
    "from random import randint\n",
    "from graphics import *\n",
    "import matplotlib.pylab as plt\n",
    "import matplotlib.path as mltp\n",
    "% matplotlib inline\n",
    "with open('obstacles.pickle', 'rb') as f:  # Python 3: open(..., 'rb')\n",
    "    s,maxRadius, maxDis, area = pickle.load(f)\n",
    "from scipy.spatial import ConvexHull\n"
   ]
  },
  {
   "cell_type": "markdown",
   "metadata": {
    "collapsed": false
   },
   "source": [
    "# Position restrictions\n",
    "The begin position of the drone is restricted to :\n",
    "<ol>\n",
    "<li> Stay within the outer boundary of the random obstacles (convex hull) </li>\n",
    "<li> Does not intersect with the obstacles or their circumference :</li>\n",
    "$$ D_{1,2}<R_{1} * SF2 $$\n",
    "Where D is the distance between drone and obstacle, R1 the radius of the obstacle, and SF2 a safety factor (margin = 1.5)\n",
    "<li> Area within which it must remain, same as obstacles </li>\n",
    "</ol>\n",
    "# Heading:\n",
    "Anti-clockwise positive direction $\\psi = [0,2 \\pi ]$\n",
    "\n",
    "# Velocity\n",
    "Velocity is normalized, given the velocity amplitude does not influence the decision of the new heading (voronoi only dependent on obstacles and position for now). This way, theoretically the network should learn faster. \n",
    "$$v = [-v_{max},v_{max} ]$$"
   ]
  },
  {
   "cell_type": "code",
   "execution_count": 2,
   "metadata": {
    "collapsed": false
   },
   "outputs": [],
   "source": [
    "# Set boundaries velocity and heading\n",
    "maxVel = 20\n",
    "maxHeading = np.pi*2\n",
    "SF2 = 1 # safety factor\n",
    "\n"
   ]
  },
  {
   "cell_type": "code",
   "execution_count": 3,
   "metadata": {
    "collapsed": false
   },
   "outputs": [],
   "source": [
    "# Randomize velocity and heading\n",
    "velocity = [randint(-maxVel, maxVel),randint(-maxVel,maxVel),0]\n",
    "velocity = np.divide(velocity, LA.norm(velocity))\n",
    "heading = np.random.sample(1)*maxHeading\n",
    "\n"
   ]
  },
  {
   "cell_type": "code",
   "execution_count": 4,
   "metadata": {
    "collapsed": false
   },
   "outputs": [],
   "source": [
    "# COnvex hull of points \n",
    "s1 =np.array(s)\n",
    "s1 = s1[:,0:2]\n",
    "hull = ConvexHull(s1)\n",
    "path =  mltp.Path(s1[hull.vertices])"
   ]
  },
  {
   "cell_type": "code",
   "execution_count": 5,
   "metadata": {
    "collapsed": false
   },
   "outputs": [],
   "source": [
    "# Randomize position, check whether it lies within convex hull of obstacles, and whether it does not\n",
    "#intersect with objects\n",
    "\n",
    "stopPos = False\n",
    "while stopPos == False:\n",
    "    intersect = True\n",
    "    pos = np.array([randint(0,area),randint(0,area),0])\n",
    "    if path.contains_point(pos) ==True:\n",
    "        #print(pos, 'True')\n",
    "        for num in s:                \n",
    "            if LA.norm([num[0:2] -pos[0:2]])< (num[3]+SF2) and intersect== True:\n",
    "                position = pos\n",
    "                intersect = False\n",
    "                #print(num, intersect)\n",
    "        if intersect == True:\n",
    "            position = pos\n",
    "            stopPos = True\n",
    "\n"
   ]
  },
  {
   "cell_type": "code",
   "execution_count": 6,
   "metadata": {
    "collapsed": false
   },
   "outputs": [],
   "source": [
    "# Saving the objects:\n",
    "with open('initialVariables.pickle', 'wb') as f:  # Python 3: open(..., 'wb')\n",
    "    pickle.dump([position, velocity, heading], f)\n"
   ]
  },
  {
   "cell_type": "markdown",
   "metadata": {
    "collapsed": false
   },
   "source": [
    "# Sanity check "
   ]
  },
  {
   "cell_type": "code",
   "execution_count": 7,
   "metadata": {
    "collapsed": false
   },
   "outputs": [
    {
     "data": {
      "text/plain": [
       "<matplotlib.patches.Circle at 0x7fb037d8d080>"
      ]
     },
     "execution_count": 7,
     "metadata": {},
     "output_type": "execute_result"
    },
    {
     "data": {
      "image/png": "[encoded data removed]",
      "text/plain": [
       "<matplotlib.figure.Figure at 0x7fb037d8d048>"
      ]
     },
     "metadata": {},
     "output_type": "display_data"
    }
   ],
   "source": [
    "\n",
    "fig, ax = plt.subplots()\n",
    "limits = maxRadius + maxDis\n",
    "ax.set_xlim((-limits, limits))\n",
    "ax.set_ylim((-limits, limits))\n",
    "for c in s:\n",
    "    #print(c)\n",
    "    point =(c[0],c[1])\n",
    "    circle = plt.Circle(point, c[3], color='r')\n",
    "    ax.add_artist(circle)\n",
    " \n",
    "circle = plt.Circle((position[0],position[1]), 0.2, color='b')\n",
    "ax.add_artist(circle)  \n"
   ]
  },
  {
   "cell_type": "code",
   "execution_count": null,
   "metadata": {
    "collapsed": true
   },
   "outputs": [],
   "source": []
  },
  {
   "cell_type": "code",
   "execution_count": null,
   "metadata": {
    "collapsed": true
   },
   "outputs": [],
   "source": []
  }
 ],
 "metadata": {
  "kernelspec": {
   "display_name": "Python 3",
   "language": "python",
   "name": "python3"
  },
  "language_info": {
   "codemirror_mode": {
    "name": "ipython",
    "version": 3
   },
   "file_extension": ".py",
   "mimetype": "text/x-python",
   "name": "python",
   "nbconvert_exporter": "python",
   "pygments_lexer": "ipython3",
   "version": "3.5.2"
  }
 },
 "nbformat": 4,
 "nbformat_minor": 1
}

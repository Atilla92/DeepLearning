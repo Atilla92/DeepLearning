{
 "cells": [
  {
   "cell_type": "markdown",
   "metadata": {},
   "source": [
    "# Rotate objects and velocity wrt. heading\n"
   ]
  },
  {
   "cell_type": "code",
   "execution_count": 1,
   "metadata": {
    "collapsed": true
   },
   "outputs": [],
   "source": [
    "import numpy as np\n",
    "import matplotlib.pylab as plt\n",
    "import time \n",
    "%matplotlib inline\n",
    "import pickle\n",
    "import sys \n",
    "import os\n",
    "from sphereIntersection import sphere_line_intersection\n",
    "from operator import itemgetter"
   ]
  },
  {
   "cell_type": "code",
   "execution_count": 2,
   "metadata": {
    "collapsed": false
   },
   "outputs": [],
   "source": [
    "with open('obstacles.pickle', 'rb') as f:  # Python 3: open(..., 'rb')\n",
    "    obstacles = pickle.load(f)\n",
    "# set heading \n",
    "with open('initialVariables.pickle', 'rb') as f:  # Python 3: open(..., 'rb')\n",
    "    __, velocity,heading =  pickle.load(f)\n"
   ]
  },
  {
   "cell_type": "code",
   "execution_count": 3,
   "metadata": {
    "collapsed": false
   },
   "outputs": [
    {
     "data": {
      "text/plain": [
       "array([ 0.458308])"
      ]
     },
     "execution_count": 3,
     "metadata": {},
     "output_type": "execute_result"
    }
   ],
   "source": [
    "heading"
   ]
  },
  {
   "cell_type": "code",
   "execution_count": 4,
   "metadata": {
    "collapsed": false
   },
   "outputs": [
    {
     "name": "stdout",
     "output_type": "stream",
     "text": [
      "[[  46.31135252   37.36654423    0.            6.        ]\n",
      " [  31.5200832    43.54864355    0.            3.        ]\n",
      " [  35.34608592   -2.94180389    0.            3.        ]\n",
      " [  84.59924233   69.77082626    0.            9.        ]\n",
      " [  68.68365319   35.24990475    0.            2.        ]\n",
      " [  90.92461758   57.72966237    0.            8.        ]\n",
      " [ 118.40245639   20.75712697    0.            5.        ]\n",
      " [  88.28196911   50.11281204    0.            6.        ]\n",
      " [ 103.58730775   31.41129849    0.            2.        ]\n",
      " [  86.32054522   -1.32795795    0.            8.        ]\n",
      " [  75.12842506    0.84837985    0.            1.        ]\n",
      " [  91.33122995   65.33457305    0.            2.        ]\n",
      " [  46.84930117   20.3750578     0.            8.        ]\n",
      " [  68.8030498    12.88954374    0.            3.        ]\n",
      " [ 109.43443267   25.18144052    0.            9.        ]\n",
      " [  17.30258151   26.03114813    0.            2.        ]\n",
      " [  51.97871863  -18.95291032    0.            2.        ]\n",
      " [  79.70861809   64.37807237    0.            3.        ]\n",
      " [  15.55673541   17.97186644    0.            5.        ]\n",
      " [  23.10194778   28.74543457    0.            9.        ]]\n"
     ]
    }
   ],
   "source": [
    "\n",
    "alpha= -heading[0] # negative rotation about z axis\n",
    "rot = np.array([np.cos(alpha), -np.sin(alpha), 0,np.sin(alpha), np.cos(alpha),0, 0,0,1])\n",
    "rot = rot.reshape(3,3)\n",
    "mat_rot= np.array([[np.dot(rot, i)] for i in obstacles[:,0:3]])\n",
    "[r,d,c] = mat_rot.shape\n",
    "obstacles_rot = mat_rot.reshape(r,c)\n",
    "obstacles[:,0:3]=obstacles_rot\n",
    "print(obstacles)"
   ]
  },
  {
   "cell_type": "code",
   "execution_count": 5,
   "metadata": {
    "collapsed": false
   },
   "outputs": [],
   "source": [
    "#  Velocity rotation\n",
    "vel_rot = np.dot(rot, velocity)\n",
    "\n",
    "\n"
   ]
  },
  {
   "cell_type": "code",
   "execution_count": 6,
   "metadata": {
    "collapsed": false
   },
   "outputs": [
    {
     "data": {
      "text/plain": [
       "array([ 15.70001135,  -8.86056677,   0.        ])"
      ]
     },
     "execution_count": 6,
     "metadata": {},
     "output_type": "execute_result"
    }
   ],
   "source": [
    "vel_rot"
   ]
  },
  {
   "cell_type": "code",
   "execution_count": 7,
   "metadata": {
    "collapsed": false
   },
   "outputs": [],
   "source": [
    "with open('obsRotated.pickle', 'wb') as f:  # Python 3: open(..., 'wb')\n",
    "    pickle.dump([obstacles,vel_rot], f)\n"
   ]
  },
  {
   "cell_type": "code",
   "execution_count": null,
   "metadata": {
    "collapsed": false
   },
   "outputs": [],
   "source": []
  },
  {
   "cell_type": "code",
   "execution_count": null,
   "metadata": {
    "collapsed": true
   },
   "outputs": [],
   "source": []
  }
 ],
 "metadata": {
  "kernelspec": {
   "display_name": "Python 3",
   "language": "python",
   "name": "python3"
  },
  "language_info": {
   "codemirror_mode": {
    "name": "ipython",
    "version": 3
   },
   "file_extension": ".py",
   "mimetype": "text/x-python",
   "name": "python",
   "nbconvert_exporter": "python",
   "pygments_lexer": "ipython3",
   "version": "3.5.2"
  }
 },
 "nbformat": 4,
 "nbformat_minor": 1
}

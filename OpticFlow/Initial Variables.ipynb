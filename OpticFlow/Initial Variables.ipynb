{
 "cells": [
  {
   "cell_type": "markdown",
   "metadata": {},
   "source": [
    "# Intial variables"
   ]
  },
  {
   "cell_type": "code",
   "execution_count": 1,
   "metadata": {
    "collapsed": false
   },
   "outputs": [],
   "source": [
    "import numpy as np\n",
    "from random import randint\n",
    "import pickle\n",
    "from numpy import linalg as LA\n",
    "from random import randint\n",
    "from graphics import *\n",
    "import matplotlib.pylab as plt\n",
    "% matplotlib inline\n",
    "with open('obstacles.pickle', 'rb') as f:  # Python 3: open(..., 'rb')\n",
    "    s,maxRadius, maxDis = pickle.load(f)"
   ]
  },
  {
   "cell_type": "code",
   "execution_count": 2,
   "metadata": {
    "collapsed": false
   },
   "outputs": [
    {
     "data": {
      "text/plain": [
       "[array([-5.        , -9.        ,  0.        ,  0.07402211]),\n",
       " array([ 1.        , -9.        ,  0.        ,  0.27654308]),\n",
       " array([  5.        , -10.        ,   0.        ,   0.14393583]),\n",
       " array([-5.        ,  6.        ,  0.        ,  0.99579157]),\n",
       " array([ 9.        ,  5.        ,  0.        ,  0.20960255]),\n",
       " array([ 3.       , -7.       ,  0.       ,  0.4657336]),\n",
       " array([ 2.        ,  2.        ,  0.        ,  0.98978573]),\n",
       " array([ 8.        ,  3.        ,  0.        ,  0.86001699]),\n",
       " array([ 6.        ,  4.        ,  0.        ,  0.17693076]),\n",
       " array([ 10.        ,  -6.        ,   0.        ,   0.88569102])]"
      ]
     },
     "execution_count": 2,
     "metadata": {},
     "output_type": "execute_result"
    }
   ],
   "source": [
    "s"
   ]
  },
  {
   "cell_type": "code",
   "execution_count": 3,
   "metadata": {
    "collapsed": false
   },
   "outputs": [],
   "source": [
    "area = 1\n",
    "maxVel = 50\n",
    "maxHeading = np.pi*2\n",
    "SF2 = 1.2 # safety factor\n",
    "#position = np.array([randint(0,area),randint(0,area),0])\n"
   ]
  },
  {
   "cell_type": "code",
   "execution_count": 4,
   "metadata": {
    "collapsed": false
   },
   "outputs": [],
   "source": [
    "velocity = [randint(-maxVel, maxVel),randint(-maxVel,maxVel),0]\n",
    "velocity = np.divide(velocity, LA.norm(velocity))\n",
    "heading = np.random.sample(1)*maxHeading\n"
   ]
  },
  {
   "cell_type": "code",
   "execution_count": 5,
   "metadata": {
    "collapsed": false
   },
   "outputs": [
    {
     "data": {
      "text/plain": [
       "array([0, 1, 0])"
      ]
     },
     "execution_count": 5,
     "metadata": {},
     "output_type": "execute_result"
    }
   ],
   "source": [
    "\n",
    "\n",
    "stopPos = False\n",
    "while stopPos == False:\n",
    "    intersect = True\n",
    "    for num in s:\n",
    "        pos = np.array([randint(0,area),randint(0,area),0])\n",
    "        if LA.norm([num[0:2] -pos[0:2]])> (num[2]*SF2):\n",
    "            position = pos\n",
    "            intersect = False\n",
    "    if intersect == False:\n",
    "        position = pos\n",
    "        stopPos = True\n",
    "position \n"
   ]
  },
  {
   "cell_type": "code",
   "execution_count": 6,
   "metadata": {
    "collapsed": false
   },
   "outputs": [
    {
     "data": {
      "text/plain": [
       "<matplotlib.patches.Circle at 0x7f405d38d898>"
      ]
     },
     "execution_count": 6,
     "metadata": {},
     "output_type": "execute_result"
    },
    {
     "data": {
      "image/png": "[encoded data removed]",
      "text/plain": [
       "<matplotlib.figure.Figure at 0x7f405d38d860>"
      ]
     },
     "metadata": {},
     "output_type": "display_data"
    }
   ],
   "source": [
    "\n",
    "\n",
    "fig, ax = plt.subplots()\n",
    "limits = maxRadius + maxDis\n",
    "ax.set_xlim((-limits, limits))\n",
    "ax.set_ylim((-limits, limits))\n",
    "for c in s:\n",
    "    #print(c)\n",
    "    point =(c[0],c[1])\n",
    "    circle = plt.Circle(point, c[3], color='r')\n",
    "    ax.add_artist(circle)\n",
    " \n",
    "circle = plt.Circle((position[0],position[1]), 0.2, color='b')\n",
    "ax.add_artist(circle)  \n"
   ]
  },
  {
   "cell_type": "code",
   "execution_count": 7,
   "metadata": {
    "collapsed": false
   },
   "outputs": [],
   "source": [
    "# Saving the objects:\n",
    "with open('initialVariables.pickle', 'wb') as f:  # Python 3: open(..., 'wb')\n",
    "    pickle.dump([position, velocity, heading], f)"
   ]
  },
  {
   "cell_type": "code",
   "execution_count": null,
   "metadata": {
    "collapsed": false
   },
   "outputs": [],
   "source": []
  },
  {
   "cell_type": "code",
   "execution_count": null,
   "metadata": {
    "collapsed": true
   },
   "outputs": [],
   "source": []
  }
 ],
 "metadata": {
  "kernelspec": {
   "display_name": "Python 3",
   "language": "python",
   "name": "python3"
  },
  "language_info": {
   "codemirror_mode": {
    "name": "ipython",
    "version": 3
   },
   "file_extension": ".py",
   "mimetype": "text/x-python",
   "name": "python",
   "nbconvert_exporter": "python",
   "pygments_lexer": "ipython3",
   "version": "3.5.2"
  }
 },
 "nbformat": 4,
 "nbformat_minor": 1
}

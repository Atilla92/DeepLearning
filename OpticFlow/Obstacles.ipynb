{
 "cells": [
  {
   "cell_type": "code",
   "execution_count": null,
   "metadata": {
    "collapsed": false
   },
   "outputs": [],
   "source": []
  },
  {
   "cell_type": "code",
   "execution_count": 1,
   "metadata": {
    "collapsed": false
   },
   "outputs": [],
   "source": [
    "import numpy as np\n",
    "import matplotlib.pylab as plt\n",
    "import time \n",
    "%matplotlib inline\n",
    "import pickle"
   ]
  },
  {
   "cell_type": "markdown",
   "metadata": {},
   "source": [
    "# Create Objects\n",
    "\n",
    "Need to randomly select, size and position of objects.\n",
    "\n",
    "To simplify the problem the following assumptions will be made:\n",
    "<ol>\n",
    "<li> horizontal flight, z = 0 </li>\n",
    "<li> objects are spheres , symmetric about x, y, and z axis </li>\n",
    "<li> There is a maximum range up to which object can be detected </li>\n",
    "</ol>"
   ]
  },
  {
   "cell_type": "code",
   "execution_count": 9,
   "metadata": {
    "collapsed": false
   },
   "outputs": [
    {
     "name": "stdout",
     "output_type": "stream",
     "text": [
      "(10, 4)\n"
     ]
    }
   ],
   "source": [
    "from random import randint\n",
    "\n",
    "\n",
    "numObj = 10\n",
    "minRadius = 1\n",
    "maxRadius = 2\n",
    "maxDis= 3\n",
    "#minDis = 1\n",
    "s_x=np.array([randint(-maxDis, maxDis) for p in range(0,numObj)])\n",
    "s_y= np.array([randint(-maxDis,maxDis) for p in range(0,numObj)])\n",
    "s_z = np.array(np.zeros(numObj))\n",
    "#s_r = np.array(np.random.sample(numObj)*maxRadius)\n",
    "s_r = ([randint(minRadius,maxRadius) for p in range(0,numObj)])\n",
    "obstacles = np.column_stack([s_x, s_y, s_z, s_r])\n",
    "print(obstacles.shape)"
   ]
  },
  {
   "cell_type": "code",
   "execution_count": 10,
   "metadata": {
    "collapsed": false
   },
   "outputs": [
    {
     "data": {
      "text/plain": [
       "array([[-2.,  3.,  0.,  1.],\n",
       "       [ 0., -1.,  0.,  2.],\n",
       "       [-2., -3.,  0.,  1.],\n",
       "       [-3.,  3.,  0.,  2.],\n",
       "       [-2.,  1.,  0.,  1.],\n",
       "       [ 2., -2.,  0.,  1.],\n",
       "       [ 0.,  3.,  0.,  2.],\n",
       "       [-1., -3.,  0.,  2.],\n",
       "       [ 0.,  1.,  0.,  2.],\n",
       "       [-2.,  2.,  0.,  1.]])"
      ]
     },
     "execution_count": 10,
     "metadata": {},
     "output_type": "execute_result"
    }
   ],
   "source": [
    "obstacles"
   ]
  },
  {
   "cell_type": "code",
   "execution_count": 4,
   "metadata": {
    "collapsed": true
   },
   "outputs": [],
   "source": [
    "# Saving the objects:\n",
    "with open('obstacles.pickle', 'wb') as f:  # Python 3: open(..., 'wb')\n",
    "    pickle.dump(obstacles, f)"
   ]
  },
  {
   "cell_type": "code",
   "execution_count": null,
   "metadata": {
    "collapsed": true
   },
   "outputs": [],
   "source": []
  }
 ],
 "metadata": {
  "kernelspec": {
   "display_name": "Python 3",
   "language": "python",
   "name": "python3"
  },
  "language_info": {
   "codemirror_mode": {
    "name": "ipython",
    "version": 3
   },
   "file_extension": ".py",
   "mimetype": "text/x-python",
   "name": "python",
   "nbconvert_exporter": "python",
   "pygments_lexer": "ipython3",
   "version": "3.5.2"
  }
 },
 "nbformat": 4,
 "nbformat_minor": 1
}

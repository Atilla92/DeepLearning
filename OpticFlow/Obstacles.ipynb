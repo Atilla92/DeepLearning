{
 "cells": [
  {
   "cell_type": "code",
   "execution_count": null,
   "metadata": {
    "collapsed": false
   },
   "outputs": [],
   "source": []
  },
  {
   "cell_type": "code",
   "execution_count": 1,
   "metadata": {
    "collapsed": false
   },
   "outputs": [],
   "source": [
    "import numpy as np\n",
    "import matplotlib.pylab as plt\n",
    "import time \n",
    "%matplotlib inline\n",
    "import pickle"
   ]
  },
  {
   "cell_type": "markdown",
   "metadata": {},
   "source": [
    "# Create Objects\n",
    "\n",
    "Need to randomly select, size and position of objects.\n",
    "\n",
    "To simplify the problem the following assumptions will be made:\n",
    "<ol>\n",
    "<li> horizontal flight, z = 0 </li>\n",
    "<li> objects are spheres , symmetric about x, y, and z axis </li>\n",
    "<li> There is a maximum range up to which object can be detected </li>\n",
    "</ol>"
   ]
  },
  {
   "cell_type": "code",
   "execution_count": 2,
   "metadata": {
    "collapsed": false
   },
   "outputs": [
    {
     "name": "stdout",
     "output_type": "stream",
     "text": [
      "(10, 4)\n"
     ]
    }
   ],
   "source": [
    "from random import randint\n",
    "\n",
    "\n",
    "numObj = 10\n",
    "minRadius = 1\n",
    "maxRadius = 1\n",
    "maxDis= 10\n",
    "#minDis = 1\n",
    "s_x=np.array([randint(-maxDis, maxDis) for p in range(0,numObj)])\n",
    "s_y= np.array([randint(-maxDis,maxDis) for p in range(0,numObj)])\n",
    "s_z = np.array(np.zeros(numObj))\n",
    "s_r = np.array(np.random.sample(numObj)*maxRadius)\n",
    "#s_r = ([randint(minRadius,maxRadius) for p in range(0,numObj)])\n",
    "obstacles = np.column_stack([s_x, s_y, s_z, s_r])\n",
    "print(obstacles.shape)"
   ]
  },
  {
   "cell_type": "code",
   "execution_count": 3,
   "metadata": {
    "collapsed": false
   },
   "outputs": [
    {
     "data": {
      "text/plain": [
       "array([[  1.        ,   1.        ,   0.        ,   0.87546166],\n",
       "       [  8.        ,   5.        ,   0.        ,   0.16538078],\n",
       "       [  1.        ,  -5.        ,   0.        ,   0.85068873],\n",
       "       [ -5.        ,   2.        ,   0.        ,   0.45672735],\n",
       "       [ -3.        ,  -2.        ,   0.        ,   0.66904147],\n",
       "       [  8.        ,  -3.        ,   0.        ,   0.2386279 ],\n",
       "       [  1.        ,   7.        ,   0.        ,   0.62272048],\n",
       "       [ -3.        ,   8.        ,   0.        ,   0.0687292 ],\n",
       "       [ 10.        ,   7.        ,   0.        ,   0.34458304],\n",
       "       [ -4.        ,  -8.        ,   0.        ,   0.43057724]])"
      ]
     },
     "execution_count": 3,
     "metadata": {},
     "output_type": "execute_result"
    }
   ],
   "source": [
    "obstacles"
   ]
  },
  {
   "cell_type": "code",
   "execution_count": 4,
   "metadata": {
    "collapsed": true
   },
   "outputs": [],
   "source": [
    "# Saving the objects:\n",
    "with open('obstacles.pickle', 'wb') as f:  # Python 3: open(..., 'wb')\n",
    "    pickle.dump(obstacles, f)"
   ]
  },
  {
   "cell_type": "code",
   "execution_count": null,
   "metadata": {
    "collapsed": true
   },
   "outputs": [],
   "source": []
  }
 ],
 "metadata": {
  "kernelspec": {
   "display_name": "Python 3",
   "language": "python",
   "name": "python3"
  },
  "language_info": {
   "codemirror_mode": {
    "name": "ipython",
    "version": 3
   },
   "file_extension": ".py",
   "mimetype": "text/x-python",
   "name": "python",
   "nbconvert_exporter": "python",
   "pygments_lexer": "ipython3",
   "version": "3.5.2"
  }
 },
 "nbformat": 4,
 "nbformat_minor": 1
}

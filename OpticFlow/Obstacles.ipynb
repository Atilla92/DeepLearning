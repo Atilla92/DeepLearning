{
 "cells": [
  {
   "cell_type": "markdown",
   "metadata": {
    "collapsed": false
   },
   "source": [
    "# Obstacles & Position"
   ]
  },
  {
   "cell_type": "code",
   "execution_count": 1,
   "metadata": {
    "collapsed": false
   },
   "outputs": [],
   "source": [
    "import numpy as np\n",
    "import matplotlib.pylab as plt\n",
    "import time \n",
    "%matplotlib inline\n",
    "import pickle\n",
    "from numpy import linalg as LA\n",
    "from random import randint\n",
    "from graphics import *"
   ]
  },
  {
   "cell_type": "markdown",
   "metadata": {},
   "source": [
    "# Create Objects\n",
    "\n",
    "Need to randomly select, size and position of objects.\n",
    "\n",
    "To simplify the problem the following assumptions will be made:\n",
    "<ol>\n",
    "<li> horizontal flight, z = 0 </li>\n",
    "<li> objects are spheres , symmetric about x, y, and z axis </li>\n",
    "<li> There is a maximum range up to which object can be detected </li>\n",
    "</ol>\n",
    "\n",
    "# no overlap \n",
    "\n",
    "To ensure there is not overlap the distance between the center of two circles must fulfill the following requirement, R1 and R2 are the radiuses of the respective circles:\n",
    "$$ D_{1,2}<(R_{1} + R_{2}) +SF1  $$\n",
    "\n",
    "Equally to ensure that a position of the drone does not fall within the area of a certain obstacle: \n",
    "$$ D_{1,2}<R_{1} + SF2 $$\n",
    "where R1 is the radius of the obstacle, and SF a safety factor, margin\n"
   ]
  },
  {
   "cell_type": "code",
   "execution_count": 2,
   "metadata": {
    "collapsed": false
   },
   "outputs": [],
   "source": [
    "# Initial restrictions on obstacles\n",
    "area = 10\n",
    "numObj = 10\n",
    "minRadius = 2\n",
    "maxRadius = 4\n",
    "maxDis= 10\n",
    "#Safety factor for intersection between obstalces\n",
    "SF1 = 1.5\n",
    "\n"
   ]
  },
  {
   "cell_type": "code",
   "execution_count": null,
   "metadata": {
    "collapsed": false
   },
   "outputs": [],
   "source": []
  },
  {
   "cell_type": "code",
   "execution_count": 3,
   "metadata": {
    "collapsed": false
   },
   "outputs": [],
   "source": [
    "# Inititate random obstacle, keep adding and checking whether obstacles do not overlap, until max number \n",
    "# of obstacles is reached\n",
    "\n",
    "s =[]\n",
    "s.append(np.array([randint(-maxDis, maxDis), randint(-maxDis, maxDis),0, np.random.sample()*maxRadius]))\n",
    "\n",
    "stopObj =False\n",
    "i = 1\n",
    "while stopObj == False: \n",
    "    intersect = False\n",
    "    s_2 = np.array([randint(-maxDis, maxDis), randint(-maxDis, maxDis),0, np.random.sample()*maxRadius])\n",
    "    for num in s:\n",
    "        if LA.norm([num[0:2]-s_2[0:2]])< (num[3]+s_2[3])+SF1:\n",
    "            intersect = True\n",
    "\n",
    "    if intersect == False:\n",
    "        s.append(s_2)\n",
    "        i = i+1\n",
    "        if i>numObj-1:\n",
    "            stopObj = True\n",
    "obstacle =s"
   ]
  },
  {
   "cell_type": "code",
   "execution_count": 4,
   "metadata": {
    "collapsed": false
   },
   "outputs": [
    {
     "data": {
      "image/png": "[encoded data removed]",
      "text/plain": [
       "<matplotlib.figure.Figure at 0x7f30f329fd68>"
      ]
     },
     "metadata": {},
     "output_type": "display_data"
    }
   ],
   "source": [
    "fig, ax = plt.subplots()\n",
    "limits = maxRadius + maxDis\n",
    "ax.set_xlim((-limits, limits))\n",
    "ax.set_ylim((-limits, limits))\n",
    "for c in s:\n",
    "    point =(c[0],c[1])\n",
    "    circle = plt.Circle(point, c[3], color='r')\n",
    "    ax.add_artist(circle)\n",
    " \n",
    "# circle = plt.Circle((position[0],position[1]), 0.2, color='b')\n",
    "# ax.add_artist(circle)  \n"
   ]
  },
  {
   "cell_type": "code",
   "execution_count": 5,
   "metadata": {
    "collapsed": true
   },
   "outputs": [],
   "source": [
    "# Saving the objects:\n",
    "with open('obstacles.pickle', 'wb') as f:  # Python 3: open(..., 'wb')\n",
    "    pickle.dump([obstacle, maxRadius, maxDis, area ], f)"
   ]
  },
  {
   "cell_type": "code",
   "execution_count": null,
   "metadata": {
    "collapsed": true
   },
   "outputs": [],
   "source": []
  }
 ],
 "metadata": {
  "kernelspec": {
   "display_name": "Python 3",
   "language": "python",
   "name": "python3"
  },
  "language_info": {
   "codemirror_mode": {
    "name": "ipython",
    "version": 3
   },
   "file_extension": ".py",
   "mimetype": "text/x-python",
   "name": "python",
   "nbconvert_exporter": "python",
   "pygments_lexer": "ipython3",
   "version": "3.5.2"
  }
 },
 "nbformat": 4,
 "nbformat_minor": 1
}

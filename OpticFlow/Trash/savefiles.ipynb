{
 "cells": [
  {
   "cell_type": "code",
   "execution_count": 1,
   "metadata": {
    "collapsed": true
   },
   "outputs": [],
   "source": [
    "import h5py \n",
    "import numpy as np\n",
    "import os\n",
    "import time\n",
    "from numpy import linalg as LA\n",
    "from random import randint"
   ]
  },
  {
   "cell_type": "code",
   "execution_count": 2,
   "metadata": {
    "collapsed": false
   },
   "outputs": [],
   "source": [
    "h = [0.2]\n",
    "v = [1,1,0]\n",
    "pos = [2,3,4]\n",
    "h_new = 10\n",
    "obstacles = np.array([[1,2,3,1],[1,2,3,1],[1,2,3,1]])\n",
    "\n",
    "FOVx = 120\n",
    "FOVy=10\n",
    "Resolutionx =10\n",
    "Resolutiony = 10\n",
    "numberObj = 10\n",
    "Radius = 1\n"
   ]
  },
  {
   "cell_type": "code",
   "execution_count": 3,
   "metadata": {
    "collapsed": false
   },
   "outputs": [
    {
     "name": "stdout",
     "output_type": "stream",
     "text": [
      "[]\n",
      "[]\n"
     ]
    },
    {
     "data": {
      "text/plain": [
       "[<DirEntry 'Simulation Optic Flow.ipynb'>,\n",
       " <DirEntry 'sphereIntersection.ipynb'>,\n",
       " <DirEntry 'savefiles.ipynb'>,\n",
       " <DirEntry 'version4.py'>,\n",
       " <DirEntry 'Version3.ipynb'>,\n",
       " <DirEntry 'SimulationOpticFlow.py'>]"
      ]
     },
     "execution_count": 3,
     "metadata": {},
     "output_type": "execute_result"
    }
   ],
   "source": [
    "import glob, os, os.path\n",
    "#from path import path\n",
    "#path =os.path.realpath('Savefiles')\n",
    "import glob, os\n",
    "os.chdir(\"/home/atilla/Documents/DeepLearning/OpticFlow/Trash\")\n",
    "files = [file for file in glob.glob(\"*.hdf5\")]\n",
    "print(files)\n",
    "\n",
    "test = 'mytestf.hdf5'\n",
    "matching = [True for s in files if test == s]\n",
    "print(matching)\n",
    "    \n",
    "#     print ('true')\n",
    "#     print(file)\n",
    "#p = path(\"/Documents/DeepLearning/Automate/\")\n",
    "# #print(os.path.dirname(os.path.realpath(__file__)))\n",
    "\n",
    "# for file in glob.glob(\"*.hdf5\"):\n",
    "#     print(file)\n",
    "[entry for entry in os.scandir('.') if entry.is_file()]\n"
   ]
  },
  {
   "cell_type": "code",
   "execution_count": 4,
   "metadata": {
    "collapsed": false
   },
   "outputs": [
    {
     "name": "stdout",
     "output_type": "stream",
     "text": [
      "mytestfile16.hdf5            SimulationOpticFlow.py    version4.py\r\n",
      "savefiles.ipynb              sphereIntersection.ipynb\r\n",
      "Simulation Optic Flow.ipynb  Version3.ipynb\r\n"
     ]
    }
   ],
   "source": [
    "files = [file for file in glob.glob(\"*.hdf5\")]\n",
    "test= 'mytestfile.hdf5'\n",
    "#test = 'test'+time.strftime('%F-%T')+'.hdf5'\n",
    "exist = False\n",
    "\n",
    "for s in files:\n",
    "    if test == s:\n",
    "        exist = True\n",
    "        print('exists')\n",
    "        #f.close()\n",
    "        f = h5py.File(test)\n",
    "        if 'obstacles' in f:\n",
    "            r= obstacles.shape\n",
    "            print(f['obstacles'].shape)\n",
    "            f['obstacles'].resize(r)\n",
    "            f['obstacles'][...] = obstacles\n",
    "            data= f['obstacles']\n",
    "            print(f['obstacles'][:])\n",
    "            #groupName = ''\n",
    "\n",
    "        else:    \n",
    "            data = f.create_dataset('obstacles', data =obstacles, dtype = 'f', chunks=True )\n",
    "\n",
    "\n",
    "if exist == False:\n",
    "    f =h5py.File(test, 'w')\n",
    "    data = f.create_dataset('obstacles', data=obstacles,dtype='f', chunks = True)\n",
    "\n",
    "    \n",
    "data.attrs['Resolution']= [Resolutionx, Resolutiony]\n",
    "data.attrs['NumberObjects']=numberObj\n",
    "data.attrs['FOV']=[FOVx,FOVy]    \n",
    "f.close()\n",
    "%ls"
   ]
  },
  {
   "cell_type": "code",
   "execution_count": 53,
   "metadata": {
    "collapsed": false
   },
   "outputs": [
    {
     "data": {
      "text/plain": [
       "[[0, 0, 0], 0, 0]"
      ]
     },
     "execution_count": 53,
     "metadata": {},
     "output_type": "execute_result"
    }
   ],
   "source": [
    "maxVel = 20\n",
    "maxHeading = np.pi*2\n",
    "SF2 = 1 # safety factor\n",
    "area = 10\n",
    "samples =3\n",
    "\n",
    "velocity = [[randint(-maxVel, maxVel),randint(-maxVel,maxVel),0] for i in range(samples)]\n",
    "velocity = [np.divide(vel, LA.norm(vel)) for vel in velocity]\n",
    "heading = [np.random.sample(1)*maxHeading for i in range(samples)]\n",
    "position =[np.array([randint(0,area),randint(0,area),0]) for i in range(samples)]\n",
    "\n",
    "\n",
    "v,p,h = [[[0,0,0], 0 , 0] for i in range(3)]\n",
    "h"
   ]
  },
  {
   "cell_type": "code",
   "execution_count": 6,
   "metadata": {
    "collapsed": false
   },
   "outputs": [
    {
     "data": {
      "text/plain": [
       "(27, 3)"
      ]
     },
     "execution_count": 6,
     "metadata": {},
     "output_type": "execute_result"
    }
   ],
   "source": [
    "layout = np.array([[pos, vel, head] \n",
    "                   for pos in position\n",
    "                   for vel in velocity\n",
    "                    for head in heading])\n",
    "layout.shape\n"
   ]
  },
  {
   "cell_type": "code",
   "execution_count": null,
   "metadata": {
    "collapsed": true
   },
   "outputs": [],
   "source": []
  },
  {
   "cell_type": "code",
   "execution_count": 11,
   "metadata": {
    "collapsed": false
   },
   "outputs": [],
   "source": [
    "f =h5py.File(test)\n",
    "data = f['obstacles']\n",
    "num =1\n",
    "for i in layout:\n",
    "    name = 'tryout_'+str(num)\n",
    "    #print(i[0],i[1],i[2], name)\n",
    "    ofx = np.zeros((20,2))\n",
    "    ofy = np.ones((20,2))\n",
    "    new_heading = 5\n",
    "    if name in f:\n",
    "        grp = f[name]\n",
    "    else:\n",
    "        grp = f.create_group(name)\n",
    "    if \"ofx\" in grp:\n",
    "        r = ofx.shape\n",
    "        grp['ofx'].resize(r)\n",
    "        grp['ofx'][...]=ofx\n",
    "    else:\n",
    "        grp.create_dataset(\"ofx\",data= ofx,dtype='f', chunks = True)\n",
    "    if \"ofy\" in grp:\n",
    "        r = ofy.shape\n",
    "        grp['ofy'].resize(r)\n",
    "        grp['ofy'][...]=ofy\n",
    "    else:\n",
    "        grp.create_dataset(\"ofy\",data= ofy, dtype='f', chunks = True)\n",
    "    if 'new_heading' in grp:\n",
    "        grp['new_heading'][...]=new_heading\n",
    "    else:\n",
    "        grp.create_dataset(\"new_heading\", data =new_heading )\n",
    "    grp.attrs['position']=i[0]\n",
    "    grp.attrs['velocity']= i[1]\n",
    "    grp.attrs['heading']=i[2]\n",
    "    #print(grp['ofx'])\n",
    "    num = num +1\n",
    "    #grp = f.create_group(name)\n",
    "    #print(num,'num')\n"
   ]
  },
  {
   "cell_type": "code",
   "execution_count": 14,
   "metadata": {
    "collapsed": false
   },
   "outputs": [],
   "source": [
    "listf=[]\n",
    "def printname(name):\n",
    "    listf.append(name)\n",
    "\n",
    "f.visit(printname)\n"
   ]
  },
  {
   "cell_type": "code",
   "execution_count": 9,
   "metadata": {
    "collapsed": false
   },
   "outputs": [
    {
     "data": {
      "text/plain": [
       "array([-0.99227788, -0.12403473,  0.        ])"
      ]
     },
     "execution_count": 9,
     "metadata": {},
     "output_type": "execute_result"
    }
   ],
   "source": [
    "f['tryout2_1'].attrs['velocity']\n"
   ]
  },
  {
   "cell_type": "code",
   "execution_count": 48,
   "metadata": {
    "collapsed": false
   },
   "outputs": [
    {
     "data": {
      "text/plain": [
       "(27, 20, 2)"
      ]
     },
     "execution_count": 48,
     "metadata": {},
     "output_type": "execute_result"
    }
   ],
   "source": [
    "listf = [key for key in f.keys() if 'tryout' in key]\n",
    "xOF = [f[x]['ofx'][:] for x in listf]\n",
    "\n",
    "np.array(xOF).shape\n"
   ]
  },
  {
   "cell_type": "code",
   "execution_count": null,
   "metadata": {
    "collapsed": true
   },
   "outputs": [],
   "source": []
  }
 ],
 "metadata": {
  "kernelspec": {
   "display_name": "Python 3",
   "language": "python",
   "name": "python3"
  },
  "language_info": {
   "codemirror_mode": {
    "name": "ipython",
    "version": 3
   },
   "file_extension": ".py",
   "mimetype": "text/x-python",
   "name": "python",
   "nbconvert_exporter": "python",
   "pygments_lexer": "ipython3",
   "version": "3.5.2"
  }
 },
 "nbformat": 4,
 "nbformat_minor": 1
}

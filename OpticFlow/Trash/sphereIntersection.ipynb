{
 "cells": [
  {
   "cell_type": "code",
   "execution_count": null,
   "metadata": {
    "collapsed": true
   },
   "outputs": [],
   "source": [
    "def sphere_line_intersection(l1, l2, sp, r):\n",
    "\n",
    "    def square(f):\n",
    "        return f * f\n",
    "    from math import sqrt\n",
    "\n",
    "    # l1[0],l1[1],l1[2]  P1 coordinates (point of line)\n",
    "    # l2[0],l2[1],l2[2]  P2 coordinates (point of line)\n",
    "    # sp[0],sp[1],sp[2], r  P3 coordinates and radius (sphere)\n",
    "    # x,y,z   intersection coordinates\n",
    "    #\n",
    "    # This function returns a pointer array which first index indicates\n",
    "    # the number of intersection point, followed by coordinate pairs.\n",
    "\n",
    "    p1 = p2 = None\n",
    "\n",
    "    a = square(l2[0] - l1[0]) + square(l2[1] - l1[1]) + square(l2[2] - l1[2])\n",
    "    b = 2.0 * ((l2[0] - l1[0]) * (l1[0] - sp[0]) +\n",
    "               (l2[1] - l1[1]) * (l1[1] - sp[1]) +\n",
    "               (l2[2] - l1[2]) * (l1[2] - sp[2]))\n",
    "\n",
    "    c = (square(sp[0]) + square(sp[1]) + square(sp[2]) + square(l1[0]) +\n",
    "            square(l1[1]) + square(l1[2]) -\n",
    "            2.0 * (sp[0] * l1[0] + sp[1] * l1[1] + sp[2] * l1[2]) - square(r))\n",
    "\n",
    "    i = b * b - 4.0 * a * c\n",
    "\n",
    "    if i < 0.0:\n",
    "        pass  # no intersections\n",
    "    elif i == 0.0:\n",
    "        # one intersection\n",
    "        p[0] = 1.0\n",
    "\n",
    "        mu = -b / (2.0 * a)\n",
    "        p1 = (l1[0] + mu * (l2[0] - l1[0]),\n",
    "              l1[1] + mu * (l2[1] - l1[1]),\n",
    "              l1[2] + mu * (l2[2] - l1[2]),\n",
    "              )\n",
    "\n",
    "    elif i > 0.0:\n",
    "        # first intersection\n",
    "        mu = (-b + sqrt(i)) / (2.0 * a)\n",
    "        p1 = (l1[0] + mu * (l2[0] - l1[0]),\n",
    "              l1[1] + mu * (l2[1] - l1[1]),\n",
    "              l1[2] + mu * (l2[2] - l1[2]),\n",
    "              )\n",
    "\n",
    "        # second intersection\n",
    "        mu = (-b - sqrt(i)) / (2.0 * a)\n",
    "        p2 = (l1[0] + mu * (l2[0] - l1[0]),\n",
    "              l1[1] + mu * (l2[1] - l1[1]),\n",
    "              l1[2] + mu * (l2[2] - l1[2]),\n",
    "              )\n",
    "\n",
    "    return p1, p2"
   ]
  }
 ],
 "metadata": {
  "kernelspec": {
   "display_name": "Python 3",
   "language": "python",
   "name": "python3"
  },
  "language_info": {
   "codemirror_mode": {
    "name": "ipython",
    "version": 3
   },
   "file_extension": ".py",
   "mimetype": "text/x-python",
   "name": "python",
   "nbconvert_exporter": "python",
   "pygments_lexer": "ipython3",
   "version": "3.5.2"
  }
 },
 "nbformat": 4,
 "nbformat_minor": 1
}
